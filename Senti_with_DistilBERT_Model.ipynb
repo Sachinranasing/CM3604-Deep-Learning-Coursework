{
 "cells": [
  {
   "cell_type": "code",
   "execution_count": 15,
   "metadata": {
    "colab": {
     "base_uri": "https://localhost:8080/"
    },
    "id": "2SQA0vOMwTNo",
    "outputId": "59c2edc7-1f28-4176-d013-03ecd6c3c5c6",
    "ExecuteTime": {
     "end_time": "2023-11-15T10:19:42.846612Z",
     "start_time": "2023-11-15T10:19:42.664802Z"
    }
   },
   "outputs": [
    {
     "name": "stdout",
     "output_type": "stream",
     "text": [
      "Python 3.8.18\r\n"
     ]
    }
   ],
   "source": [
    "# from google.colab import drive\n",
    "# drive.mount('/content/drive')\n",
    "!python --version"
   ]
  },
  {
   "cell_type": "code",
   "execution_count": 16,
   "metadata": {
    "id": "19zFLXQ7wdc4",
    "ExecuteTime": {
     "end_time": "2023-11-15T10:19:43.546264Z",
     "start_time": "2023-11-15T10:19:43.524895Z"
    }
   },
   "outputs": [],
   "source": [
    "import numpy as np # linear algebra\n",
    "import pandas as pd # data processing\n",
    "import matplotlib.pyplot as plt\n",
    "import seaborn as sns"
   ]
  },
  {
   "cell_type": "code",
   "execution_count": 17,
   "metadata": {
    "colab": {
     "base_uri": "https://localhost:8080/"
    },
    "id": "ngHohTolIuz8",
    "outputId": "cf75fee2-f62a-45c3-8946-71333cd3d6ad",
    "ExecuteTime": {
     "end_time": "2023-11-15T10:19:43.799943Z",
     "start_time": "2023-11-15T10:19:43.689876Z"
    }
   },
   "outputs": [
    {
     "name": "stdout",
     "output_type": "stream",
     "text": [
      "CPU times: user 53.4 ms, sys: 23.6 ms, total: 77 ms\n",
      "Wall time: 103 ms\n"
     ]
    }
   ],
   "source": [
    "%time df = pd.read_json(\"/Users/chalana/Desktop/CW_DL/yelp_academic_dataset_review.json\", encoding = 'ISO-8859-1', lines=True, nrows=10000)"
   ]
  },
  {
   "cell_type": "code",
   "execution_count": 18,
   "metadata": {
    "colab": {
     "base_uri": "https://localhost:8080/",
     "height": 414
    },
    "id": "sf9MCNWwxACC",
    "outputId": "e823fcc0-be64-4282-9061-fb07785fda54",
    "ExecuteTime": {
     "end_time": "2023-11-15T10:19:43.883117Z",
     "start_time": "2023-11-15T10:19:43.873952Z"
    }
   },
   "outputs": [
    {
     "data": {
      "text/plain": "                review_id                 user_id             business_id  \\\n0  KU_O5udG6zpxOg-VcAEodg  mh_-eMZ6K5RLWhZyISBhwA  XQfwVwDr-v0ZS3_CbbE5Xw   \n1  BiTunyQ73aT9WBnpR9DZGw  OyoGAe7OKpv6SyGZT5g77Q  7ATYjTIgM3jUlt4UM3IypQ   \n2  saUsX_uimxRlCVr67Z4Jig  8g_iMtfSiwikVnbP2etR0A  YjUWPpI6HXG530lwP-fb2A   \n3  AqPFMleE6RsU23_auESxiA  _7bHUi9Uuf5__HHc_Q8guQ  kxX2SOes4o-D3ZQBkiMRfA   \n4  Sx8TMOWLNuJBWer-0pcmoA  bcjbaE6dDog4jkNY91ncLQ  e4Vwtrqf-wpJfwesgvdgxQ   \n\n   stars  useful  funny  cool  \\\n0      3       0      0     0   \n1      5       1      0     1   \n2      3       0      0     0   \n3      5       1      0     1   \n4      4       1      0     1   \n\n                                                text                date  \n0  If you decide to eat here, just be aware it is... 2018-07-07 22:09:11  \n1  I've taken a lot of spin classes over the year... 2012-01-03 15:28:18  \n2  Family diner. Had the buffet. Eclectic assortm... 2014-02-05 20:30:30  \n3  Wow!  Yummy, different,  delicious.   Our favo... 2015-01-04 00:01:03  \n4  Cute interior and owner (?) gave us tour of up... 2017-01-14 20:54:15  ",
      "text/html": "<div>\n<style scoped>\n    .dataframe tbody tr th:only-of-type {\n        vertical-align: middle;\n    }\n\n    .dataframe tbody tr th {\n        vertical-align: top;\n    }\n\n    .dataframe thead th {\n        text-align: right;\n    }\n</style>\n<table border=\"1\" class=\"dataframe\">\n  <thead>\n    <tr style=\"text-align: right;\">\n      <th></th>\n      <th>review_id</th>\n      <th>user_id</th>\n      <th>business_id</th>\n      <th>stars</th>\n      <th>useful</th>\n      <th>funny</th>\n      <th>cool</th>\n      <th>text</th>\n      <th>date</th>\n    </tr>\n  </thead>\n  <tbody>\n    <tr>\n      <th>0</th>\n      <td>KU_O5udG6zpxOg-VcAEodg</td>\n      <td>mh_-eMZ6K5RLWhZyISBhwA</td>\n      <td>XQfwVwDr-v0ZS3_CbbE5Xw</td>\n      <td>3</td>\n      <td>0</td>\n      <td>0</td>\n      <td>0</td>\n      <td>If you decide to eat here, just be aware it is...</td>\n      <td>2018-07-07 22:09:11</td>\n    </tr>\n    <tr>\n      <th>1</th>\n      <td>BiTunyQ73aT9WBnpR9DZGw</td>\n      <td>OyoGAe7OKpv6SyGZT5g77Q</td>\n      <td>7ATYjTIgM3jUlt4UM3IypQ</td>\n      <td>5</td>\n      <td>1</td>\n      <td>0</td>\n      <td>1</td>\n      <td>I've taken a lot of spin classes over the year...</td>\n      <td>2012-01-03 15:28:18</td>\n    </tr>\n    <tr>\n      <th>2</th>\n      <td>saUsX_uimxRlCVr67Z4Jig</td>\n      <td>8g_iMtfSiwikVnbP2etR0A</td>\n      <td>YjUWPpI6HXG530lwP-fb2A</td>\n      <td>3</td>\n      <td>0</td>\n      <td>0</td>\n      <td>0</td>\n      <td>Family diner. Had the buffet. Eclectic assortm...</td>\n      <td>2014-02-05 20:30:30</td>\n    </tr>\n    <tr>\n      <th>3</th>\n      <td>AqPFMleE6RsU23_auESxiA</td>\n      <td>_7bHUi9Uuf5__HHc_Q8guQ</td>\n      <td>kxX2SOes4o-D3ZQBkiMRfA</td>\n      <td>5</td>\n      <td>1</td>\n      <td>0</td>\n      <td>1</td>\n      <td>Wow!  Yummy, different,  delicious.   Our favo...</td>\n      <td>2015-01-04 00:01:03</td>\n    </tr>\n    <tr>\n      <th>4</th>\n      <td>Sx8TMOWLNuJBWer-0pcmoA</td>\n      <td>bcjbaE6dDog4jkNY91ncLQ</td>\n      <td>e4Vwtrqf-wpJfwesgvdgxQ</td>\n      <td>4</td>\n      <td>1</td>\n      <td>0</td>\n      <td>1</td>\n      <td>Cute interior and owner (?) gave us tour of up...</td>\n      <td>2017-01-14 20:54:15</td>\n    </tr>\n  </tbody>\n</table>\n</div>"
     },
     "execution_count": 18,
     "metadata": {},
     "output_type": "execute_result"
    }
   ],
   "source": [
    "df.head()"
   ]
  },
  {
   "cell_type": "code",
   "execution_count": 19,
   "metadata": {
    "colab": {
     "base_uri": "https://localhost:8080/"
    },
    "id": "kegbwjF4xDhh",
    "outputId": "a5cd2afe-7a59-4cb3-bc46-b171440fa93f",
    "ExecuteTime": {
     "end_time": "2023-11-15T10:19:44.109460Z",
     "start_time": "2023-11-15T10:19:44.072760Z"
    }
   },
   "outputs": [
    {
     "data": {
      "text/plain": "(10000, 9)"
     },
     "execution_count": 19,
     "metadata": {},
     "output_type": "execute_result"
    }
   ],
   "source": [
    "df.shape"
   ]
  },
  {
   "cell_type": "code",
   "execution_count": 20,
   "metadata": {
    "colab": {
     "base_uri": "https://localhost:8080/"
    },
    "id": "E6W3C7XcxG-C",
    "outputId": "7a8ccc0f-0575-4e8f-9715-9b9c67e90e68",
    "ExecuteTime": {
     "end_time": "2023-11-15T10:19:49.997732Z",
     "start_time": "2023-11-15T10:19:49.980898Z"
    }
   },
   "outputs": [
    {
     "data": {
      "text/plain": "review_id      0\nuser_id        0\nbusiness_id    0\nstars          0\nuseful         0\nfunny          0\ncool           0\ntext           0\ndate           0\ndtype: int64"
     },
     "execution_count": 20,
     "metadata": {},
     "output_type": "execute_result"
    }
   ],
   "source": [
    "df.isnull().sum()"
   ]
  },
  {
   "cell_type": "code",
   "execution_count": 21,
   "metadata": {
    "colab": {
     "base_uri": "https://localhost:8080/"
    },
    "id": "YL1FUxsPxIio",
    "outputId": "6e8b38ad-fb0f-44cf-cecd-88fc7256ecb2",
    "ExecuteTime": {
     "end_time": "2023-11-15T10:19:50.987066Z",
     "start_time": "2023-11-15T10:19:50.967968Z"
    }
   },
   "outputs": [
    {
     "data": {
      "text/plain": "stars\n5    4445\n4    2574\n3    1139\n1    1079\n2     763\nName: count, dtype: int64"
     },
     "execution_count": 21,
     "metadata": {},
     "output_type": "execute_result"
    }
   ],
   "source": [
    "df.stars.unique()\n",
    "#How many unique star values are there\n",
    "df.stars.value_counts()\n",
    "#shows the distribution for each star value"
   ]
  },
  {
   "cell_type": "code",
   "execution_count": 22,
   "metadata": {
    "colab": {
     "base_uri": "https://localhost:8080/",
     "height": 385
    },
    "id": "ZUwoqIKVxLd4",
    "outputId": "827c6557-2920-46ca-9570-52a556ea4aed",
    "ExecuteTime": {
     "end_time": "2023-11-15T10:19:51.795036Z",
     "start_time": "2023-11-15T10:19:51.609830Z"
    }
   },
   "outputs": [
    {
     "data": {
      "text/plain": "Text(0.5, 1.0, 'Precentage of Stars rating')"
     },
     "execution_count": 22,
     "metadata": {},
     "output_type": "execute_result"
    },
    {
     "data": {
      "text/plain": "<Figure size 400x400 with 1 Axes>",
      "image/png": "[encoded data removed]"
     },
     "metadata": {},
     "output_type": "display_data"
    }
   ],
   "source": [
    "plt.figure(figsize=(4,4))\n",
    "df[\"stars\"].value_counts().plot.pie(autopct=\"%1.1f%%\", startangle=60)\n",
    "plt.title(\"Precentage of Stars rating\")"
   ]
  },
  {
   "cell_type": "code",
   "execution_count": 23,
   "metadata": {
    "colab": {
     "base_uri": "https://localhost:8080/",
     "height": 564
    },
    "id": "2bies9LlxNgG",
    "outputId": "584da79d-fd4c-4dc4-8393-2464f999883b",
    "ExecuteTime": {
     "end_time": "2023-11-15T10:19:52.482581Z",
     "start_time": "2023-11-15T10:19:52.366031Z"
    }
   },
   "outputs": [
    {
     "data": {
      "text/plain": "<Figure size 800x600 with 1 Axes>",
      "image/png": "[encoded data removed]"
     },
     "metadata": {},
     "output_type": "display_data"
    }
   ],
   "source": [
    "x=df['stars'].value_counts()\n",
    "x=x.sort_index()\n",
    "plt.figure(figsize=(8,6))\n",
    "ax= sns.barplot(x=x.index, y=x.values, alpha=0.8)\n",
    "plt.title(\"Star Rating Distribution\")\n",
    "plt.ylabel('count')\n",
    "plt.xlabel('Star Ratings')\n",
    "rects = ax.patches\n",
    "labels = x.values\n",
    "for rect, label in zip(rects, labels):\n",
    "    height = rect.get_height()\n",
    "    ax.text(rect.get_x() + rect.get_width()/2, height + 5, label, ha='center', va='bottom')\n",
    "plt.show();"
   ]
  },
  {
   "cell_type": "code",
   "execution_count": 24,
   "metadata": {
    "id": "MSqFo7ZnxV2g",
    "ExecuteTime": {
     "end_time": "2023-11-15T10:19:53.032442Z",
     "start_time": "2023-11-15T10:19:53.019258Z"
    }
   },
   "outputs": [],
   "source": [
    "df[\"label\"] = df[\"stars\"].apply(lambda score: \"positive\" if score >= 3 else \"negative\")\n",
    "df['label'] = df['label'].map({'positive':1, 'negative':0})"
   ]
  },
  {
   "cell_type": "code",
   "execution_count": 25,
   "metadata": {
    "colab": {
     "base_uri": "https://localhost:8080/",
     "height": 571
    },
    "id": "FHdZDVnMxX3i",
    "outputId": "5da43b3b-5643-45dc-9544-6438f9c20560",
    "ExecuteTime": {
     "end_time": "2023-11-15T10:19:54.080316Z",
     "start_time": "2023-11-15T10:19:54.065561Z"
    }
   },
   "outputs": [
    {
     "data": {
      "text/plain": "                review_id                 user_id             business_id  \\\n0  KU_O5udG6zpxOg-VcAEodg  mh_-eMZ6K5RLWhZyISBhwA  XQfwVwDr-v0ZS3_CbbE5Xw   \n1  BiTunyQ73aT9WBnpR9DZGw  OyoGAe7OKpv6SyGZT5g77Q  7ATYjTIgM3jUlt4UM3IypQ   \n2  saUsX_uimxRlCVr67Z4Jig  8g_iMtfSiwikVnbP2etR0A  YjUWPpI6HXG530lwP-fb2A   \n3  AqPFMleE6RsU23_auESxiA  _7bHUi9Uuf5__HHc_Q8guQ  kxX2SOes4o-D3ZQBkiMRfA   \n4  Sx8TMOWLNuJBWer-0pcmoA  bcjbaE6dDog4jkNY91ncLQ  e4Vwtrqf-wpJfwesgvdgxQ   \n\n   stars  useful  funny  cool  \\\n0      3       0      0     0   \n1      5       1      0     1   \n2      3       0      0     0   \n3      5       1      0     1   \n4      4       1      0     1   \n\n                                                text                date  \\\n0  If you decide to eat here, just be aware it is... 2018-07-07 22:09:11   \n1  I've taken a lot of spin classes over the year... 2012-01-03 15:28:18   \n2  Family diner. Had the buffet. Eclectic assortm... 2014-02-05 20:30:30   \n3  Wow!  Yummy, different,  delicious.   Our favo... 2015-01-04 00:01:03   \n4  Cute interior and owner (?) gave us tour of up... 2017-01-14 20:54:15   \n\n   label  \n0      1  \n1      1  \n2      1  \n3      1  \n4      1  ",
      "text/html": "<div>\n<style scoped>\n    .dataframe tbody tr th:only-of-type {\n        vertical-align: middle;\n    }\n\n    .dataframe tbody tr th {\n        vertical-align: top;\n    }\n\n    .dataframe thead th {\n        text-align: right;\n    }\n</style>\n<table border=\"1\" class=\"dataframe\">\n  <thead>\n    <tr style=\"text-align: right;\">\n      <th></th>\n      <th>review_id</th>\n      <th>user_id</th>\n      <th>business_id</th>\n      <th>stars</th>\n      <th>useful</th>\n      <th>funny</th>\n      <th>cool</th>\n      <th>text</th>\n      <th>date</th>\n      <th>label</th>\n    </tr>\n  </thead>\n  <tbody>\n    <tr>\n      <th>0</th>\n      <td>KU_O5udG6zpxOg-VcAEodg</td>\n      <td>mh_-eMZ6K5RLWhZyISBhwA</td>\n      <td>XQfwVwDr-v0ZS3_CbbE5Xw</td>\n      <td>3</td>\n      <td>0</td>\n      <td>0</td>\n      <td>0</td>\n      <td>If you decide to eat here, just be aware it is...</td>\n      <td>2018-07-07 22:09:11</td>\n      <td>1</td>\n    </tr>\n    <tr>\n      <th>1</th>\n      <td>BiTunyQ73aT9WBnpR9DZGw</td>\n      <td>OyoGAe7OKpv6SyGZT5g77Q</td>\n      <td>7ATYjTIgM3jUlt4UM3IypQ</td>\n      <td>5</td>\n      <td>1</td>\n      <td>0</td>\n      <td>1</td>\n      <td>I've taken a lot of spin classes over the year...</td>\n      <td>2012-01-03 15:28:18</td>\n      <td>1</td>\n    </tr>\n    <tr>\n      <th>2</th>\n      <td>saUsX_uimxRlCVr67Z4Jig</td>\n      <td>8g_iMtfSiwikVnbP2etR0A</td>\n      <td>YjUWPpI6HXG530lwP-fb2A</td>\n      <td>3</td>\n      <td>0</td>\n      <td>0</td>\n      <td>0</td>\n      <td>Family diner. Had the buffet. Eclectic assortm...</td>\n      <td>2014-02-05 20:30:30</td>\n      <td>1</td>\n    </tr>\n    <tr>\n      <th>3</th>\n      <td>AqPFMleE6RsU23_auESxiA</td>\n      <td>_7bHUi9Uuf5__HHc_Q8guQ</td>\n      <td>kxX2SOes4o-D3ZQBkiMRfA</td>\n      <td>5</td>\n      <td>1</td>\n      <td>0</td>\n      <td>1</td>\n      <td>Wow!  Yummy, different,  delicious.   Our favo...</td>\n      <td>2015-01-04 00:01:03</td>\n      <td>1</td>\n    </tr>\n    <tr>\n      <th>4</th>\n      <td>Sx8TMOWLNuJBWer-0pcmoA</td>\n      <td>bcjbaE6dDog4jkNY91ncLQ</td>\n      <td>e4Vwtrqf-wpJfwesgvdgxQ</td>\n      <td>4</td>\n      <td>1</td>\n      <td>0</td>\n      <td>1</td>\n      <td>Cute interior and owner (?) gave us tour of up...</td>\n      <td>2017-01-14 20:54:15</td>\n      <td>1</td>\n    </tr>\n  </tbody>\n</table>\n</div>"
     },
     "execution_count": 25,
     "metadata": {},
     "output_type": "execute_result"
    }
   ],
   "source": [
    "df.head()"
   ]
  },
  {
   "cell_type": "code",
   "execution_count": 26,
   "metadata": {
    "id": "MENYj1t3xZxn",
    "ExecuteTime": {
     "end_time": "2023-11-15T10:19:55.043264Z",
     "start_time": "2023-11-15T10:19:55.035871Z"
    }
   },
   "outputs": [],
   "source": [
    "new_df= df[['text', 'label']]"
   ]
  },
  {
   "cell_type": "code",
   "execution_count": 27,
   "metadata": {
    "colab": {
     "base_uri": "https://localhost:8080/",
     "height": 424
    },
    "id": "qZdHfYLex9Li",
    "outputId": "2920b621-c654-481c-acf8-d35abff379fa",
    "ExecuteTime": {
     "end_time": "2023-11-15T10:19:55.916476Z",
     "start_time": "2023-11-15T10:19:55.905618Z"
    }
   },
   "outputs": [
    {
     "data": {
      "text/plain": "                                                   text  label\n0     If you decide to eat here, just be aware it is...      1\n1     I've taken a lot of spin classes over the year...      1\n2     Family diner. Had the buffet. Eclectic assortm...      1\n3     Wow!  Yummy, different,  delicious.   Our favo...      1\n4     Cute interior and owner (?) gave us tour of up...      1\n...                                                 ...    ...\n9995  Excellent food and service. The place is funct...      1\n9996  Just about to get tucked into a meatloaf that ...      1\n9997  Outstanding customer service! And my car is dr...      1\n9998  I and my husband went here for Dinner one day ...      1\n9999  I saw Big Data when they came to town at the K...      0\n\n[10000 rows x 2 columns]",
      "text/html": "<div>\n<style scoped>\n    .dataframe tbody tr th:only-of-type {\n        vertical-align: middle;\n    }\n\n    .dataframe tbody tr th {\n        vertical-align: top;\n    }\n\n    .dataframe thead th {\n        text-align: right;\n    }\n</style>\n<table border=\"1\" class=\"dataframe\">\n  <thead>\n    <tr style=\"text-align: right;\">\n      <th></th>\n      <th>text</th>\n      <th>label</th>\n    </tr>\n  </thead>\n  <tbody>\n    <tr>\n      <th>0</th>\n      <td>If you decide to eat here, just be aware it is...</td>\n      <td>1</td>\n    </tr>\n    <tr>\n      <th>1</th>\n      <td>I've taken a lot of spin classes over the year...</td>\n      <td>1</td>\n    </tr>\n    <tr>\n      <th>2</th>\n      <td>Family diner. Had the buffet. Eclectic assortm...</td>\n      <td>1</td>\n    </tr>\n    <tr>\n      <th>3</th>\n      <td>Wow!  Yummy, different,  delicious.   Our favo...</td>\n      <td>1</td>\n    </tr>\n    <tr>\n      <th>4</th>\n      <td>Cute interior and owner (?) gave us tour of up...</td>\n      <td>1</td>\n    </tr>\n    <tr>\n      <th>...</th>\n      <td>...</td>\n      <td>...</td>\n    </tr>\n    <tr>\n      <th>9995</th>\n      <td>Excellent food and service. The place is funct...</td>\n      <td>1</td>\n    </tr>\n    <tr>\n      <th>9996</th>\n      <td>Just about to get tucked into a meatloaf that ...</td>\n      <td>1</td>\n    </tr>\n    <tr>\n      <th>9997</th>\n      <td>Outstanding customer service! And my car is dr...</td>\n      <td>1</td>\n    </tr>\n    <tr>\n      <th>9998</th>\n      <td>I and my husband went here for Dinner one day ...</td>\n      <td>1</td>\n    </tr>\n    <tr>\n      <th>9999</th>\n      <td>I saw Big Data when they came to town at the K...</td>\n      <td>0</td>\n    </tr>\n  </tbody>\n</table>\n<p>10000 rows × 2 columns</p>\n</div>"
     },
     "execution_count": 27,
     "metadata": {},
     "output_type": "execute_result"
    }
   ],
   "source": [
    "new_df"
   ]
  },
  {
   "cell_type": "code",
   "execution_count": 28,
   "metadata": {
    "colab": {
     "base_uri": "https://localhost:8080/"
    },
    "id": "nSDP-Xxwx-r1",
    "outputId": "f6a70fcf-92c4-4f31-a526-052cd175afbf",
    "ExecuteTime": {
     "end_time": "2023-11-15T10:19:58.594759Z",
     "start_time": "2023-11-15T10:19:56.921851Z"
    }
   },
   "outputs": [
    {
     "name": "stdout",
     "output_type": "stream",
     "text": [
      "Requirement already satisfied: langdetect in /Users/chalana/anaconda3/envs/myEnv/lib/python3.8/site-packages (1.0.9)\r\n",
      "Requirement already satisfied: six in /Users/chalana/anaconda3/envs/myEnv/lib/python3.8/site-packages (from langdetect) (1.16.0)\r\n"
     ]
    }
   ],
   "source": [
    "!pip install langdetect"
   ]
  },
  {
   "cell_type": "code",
   "execution_count": 29,
   "metadata": {
    "id": "n_eWEzeryBRP",
    "ExecuteTime": {
     "end_time": "2023-11-15T10:20:22.689828Z",
     "start_time": "2023-11-15T10:20:02.747745Z"
    }
   },
   "outputs": [],
   "source": [
    "from langdetect import detect\n",
    "#import detect function from langdetect\n",
    "nonen=new_df[new_df['text'].apply(detect)!='en']\n",
    "#nonen is the dataframe of non-english user reviews"
   ]
  },
  {
   "cell_type": "code",
   "execution_count": 30,
   "metadata": {
    "colab": {
     "base_uri": "https://localhost:8080/",
     "height": 332
    },
    "id": "mcml0OZLyFIq",
    "outputId": "bb8172f1-693f-48d8-c542-ab4d7c1ae8ec",
    "ExecuteTime": {
     "end_time": "2023-11-15T10:20:28.509942Z",
     "start_time": "2023-11-15T10:20:28.499107Z"
    }
   },
   "outputs": [
    {
     "data": {
      "text/plain": "                                                   text  label\n830   De vacaciones y sin ganas de cocinar, decidimo...      1\n1906  City Parkã®è¿ãã«ããæ¿å®ããæ°·å±ã...      1\n3369  Op suggestie van yelp- hier geweest op onze ee...      1\n4281  Excelente comida mediterrÃ¡nea! El gyro es bue...      1\n5717                   Peter piper on roids. Good pizza      1\n6349  Excelente la comida.  Las costillas (ribs) fue...      1\n7748  Small quiet little place but didn't feel cramp...      1\n8623  Sehr nettes kleines ruhiges typisches amerikan...      1\n9237  ç¹äºåä¸ªè æ²¡ä¸ä¸ªå¥½åç ä¸éåä¸...      0\n9933                         BBQ good lawd have mercy !      1",
      "text/html": "<div>\n<style scoped>\n    .dataframe tbody tr th:only-of-type {\n        vertical-align: middle;\n    }\n\n    .dataframe tbody tr th {\n        vertical-align: top;\n    }\n\n    .dataframe thead th {\n        text-align: right;\n    }\n</style>\n<table border=\"1\" class=\"dataframe\">\n  <thead>\n    <tr style=\"text-align: right;\">\n      <th></th>\n      <th>text</th>\n      <th>label</th>\n    </tr>\n  </thead>\n  <tbody>\n    <tr>\n      <th>830</th>\n      <td>De vacaciones y sin ganas de cocinar, decidimo...</td>\n      <td>1</td>\n    </tr>\n    <tr>\n      <th>1906</th>\n      <td>City Parkã®è¿ãã«ããæ¿å®ããæ°·å±ã...</td>\n      <td>1</td>\n    </tr>\n    <tr>\n      <th>3369</th>\n      <td>Op suggestie van yelp- hier geweest op onze ee...</td>\n      <td>1</td>\n    </tr>\n    <tr>\n      <th>4281</th>\n      <td>Excelente comida mediterrÃ¡nea! El gyro es bue...</td>\n      <td>1</td>\n    </tr>\n    <tr>\n      <th>5717</th>\n      <td>Peter piper on roids. Good pizza</td>\n      <td>1</td>\n    </tr>\n    <tr>\n      <th>6349</th>\n      <td>Excelente la comida.  Las costillas (ribs) fue...</td>\n      <td>1</td>\n    </tr>\n    <tr>\n      <th>7748</th>\n      <td>Small quiet little place but didn't feel cramp...</td>\n      <td>1</td>\n    </tr>\n    <tr>\n      <th>8623</th>\n      <td>Sehr nettes kleines ruhiges typisches amerikan...</td>\n      <td>1</td>\n    </tr>\n    <tr>\n      <th>9237</th>\n      <td>ç¹äºåä¸ªè æ²¡ä¸ä¸ªå¥½åç ä¸éåä¸...</td>\n      <td>0</td>\n    </tr>\n    <tr>\n      <th>9933</th>\n      <td>BBQ good lawd have mercy !</td>\n      <td>1</td>\n    </tr>\n  </tbody>\n</table>\n</div>"
     },
     "execution_count": 30,
     "metadata": {},
     "output_type": "execute_result"
    }
   ],
   "source": [
    "nonen"
   ]
  },
  {
   "cell_type": "code",
   "execution_count": 31,
   "metadata": {
    "id": "DUt-P9v0yVid",
    "ExecuteTime": {
     "end_time": "2023-11-15T10:20:50.859684Z",
     "start_time": "2023-11-15T10:20:29.626363Z"
    }
   },
   "outputs": [],
   "source": [
    "yelp=new_df[new_df['text'].apply(detect)=='en']\n",
    "#yelp is the data frame we will continue to work on.\n",
    "#yelp only contains English reviews"
   ]
  },
  {
   "cell_type": "code",
   "execution_count": 32,
   "metadata": {
    "colab": {
     "base_uri": "https://localhost:8080/",
     "height": 424
    },
    "id": "rFqolaoQzQQN",
    "outputId": "28d5d3dc-b72e-4ee8-f0ab-122e3cae5142",
    "ExecuteTime": {
     "end_time": "2023-11-15T10:20:52.421152Z",
     "start_time": "2023-11-15T10:20:52.406221Z"
    }
   },
   "outputs": [
    {
     "data": {
      "text/plain": "                                                   text  label\n0     If you decide to eat here, just be aware it is...      1\n1     I've taken a lot of spin classes over the year...      1\n2     Family diner. Had the buffet. Eclectic assortm...      1\n3     Wow!  Yummy, different,  delicious.   Our favo...      1\n4     Cute interior and owner (?) gave us tour of up...      1\n...                                                 ...    ...\n9995  Excellent food and service. The place is funct...      1\n9996  Just about to get tucked into a meatloaf that ...      1\n9997  Outstanding customer service! And my car is dr...      1\n9998  I and my husband went here for Dinner one day ...      1\n9999  I saw Big Data when they came to town at the K...      0\n\n[9989 rows x 2 columns]",
      "text/html": "<div>\n<style scoped>\n    .dataframe tbody tr th:only-of-type {\n        vertical-align: middle;\n    }\n\n    .dataframe tbody tr th {\n        vertical-align: top;\n    }\n\n    .dataframe thead th {\n        text-align: right;\n    }\n</style>\n<table border=\"1\" class=\"dataframe\">\n  <thead>\n    <tr style=\"text-align: right;\">\n      <th></th>\n      <th>text</th>\n      <th>label</th>\n    </tr>\n  </thead>\n  <tbody>\n    <tr>\n      <th>0</th>\n      <td>If you decide to eat here, just be aware it is...</td>\n      <td>1</td>\n    </tr>\n    <tr>\n      <th>1</th>\n      <td>I've taken a lot of spin classes over the year...</td>\n      <td>1</td>\n    </tr>\n    <tr>\n      <th>2</th>\n      <td>Family diner. Had the buffet. Eclectic assortm...</td>\n      <td>1</td>\n    </tr>\n    <tr>\n      <th>3</th>\n      <td>Wow!  Yummy, different,  delicious.   Our favo...</td>\n      <td>1</td>\n    </tr>\n    <tr>\n      <th>4</th>\n      <td>Cute interior and owner (?) gave us tour of up...</td>\n      <td>1</td>\n    </tr>\n    <tr>\n      <th>...</th>\n      <td>...</td>\n      <td>...</td>\n    </tr>\n    <tr>\n      <th>9995</th>\n      <td>Excellent food and service. The place is funct...</td>\n      <td>1</td>\n    </tr>\n    <tr>\n      <th>9996</th>\n      <td>Just about to get tucked into a meatloaf that ...</td>\n      <td>1</td>\n    </tr>\n    <tr>\n      <th>9997</th>\n      <td>Outstanding customer service! And my car is dr...</td>\n      <td>1</td>\n    </tr>\n    <tr>\n      <th>9998</th>\n      <td>I and my husband went here for Dinner one day ...</td>\n      <td>1</td>\n    </tr>\n    <tr>\n      <th>9999</th>\n      <td>I saw Big Data when they came to town at the K...</td>\n      <td>0</td>\n    </tr>\n  </tbody>\n</table>\n<p>9989 rows × 2 columns</p>\n</div>"
     },
     "execution_count": 32,
     "metadata": {},
     "output_type": "execute_result"
    }
   ],
   "source": [
    "yelp"
   ]
  },
  {
   "cell_type": "code",
   "execution_count": 33,
   "metadata": {
    "colab": {
     "base_uri": "https://localhost:8080/"
    },
    "id": "ySYh2rB3zdSj",
    "outputId": "001a89ac-911f-4355-80c6-689d96bd259e",
    "ExecuteTime": {
     "end_time": "2023-11-15T10:20:53.391258Z",
     "start_time": "2023-11-15T10:20:53.362857Z"
    }
   },
   "outputs": [
    {
     "name": "stderr",
     "output_type": "stream",
     "text": [
      "/var/folders/2j/yxv84ths1v900tnt142h8nh80000gn/T/ipykernel_40598/549424886.py:1: SettingWithCopyWarning: \n",
      "A value is trying to be set on a copy of a slice from a DataFrame.\n",
      "Try using .loc[row_indexer,col_indexer] = value instead\n",
      "\n",
      "See the caveats in the documentation: https://pandas.pydata.org/pandas-docs/stable/user_guide/indexing.html#returning-a-view-versus-a-copy\n",
      "  yelp['text']=yelp['text'].str.lower()\n",
      "/var/folders/2j/yxv84ths1v900tnt142h8nh80000gn/T/ipykernel_40598/549424886.py:3: SettingWithCopyWarning: \n",
      "A value is trying to be set on a copy of a slice from a DataFrame.\n",
      "Try using .loc[row_indexer,col_indexer] = value instead\n",
      "\n",
      "See the caveats in the documentation: https://pandas.pydata.org/pandas-docs/stable/user_guide/indexing.html#returning-a-view-versus-a-copy\n",
      "  yelp['text']=yelp['text'].str.replace('[^\\w\\s]','')\n",
      "/var/folders/2j/yxv84ths1v900tnt142h8nh80000gn/T/ipykernel_40598/549424886.py:5: SettingWithCopyWarning: \n",
      "A value is trying to be set on a copy of a slice from a DataFrame.\n",
      "Try using .loc[row_indexer,col_indexer] = value instead\n",
      "\n",
      "See the caveats in the documentation: https://pandas.pydata.org/pandas-docs/stable/user_guide/indexing.html#returning-a-view-versus-a-copy\n",
      "  yelp['text']=yelp['text'].str.replace('\\d+','')\n",
      "/var/folders/2j/yxv84ths1v900tnt142h8nh80000gn/T/ipykernel_40598/549424886.py:7: SettingWithCopyWarning: \n",
      "A value is trying to be set on a copy of a slice from a DataFrame.\n",
      "Try using .loc[row_indexer,col_indexer] = value instead\n",
      "\n",
      "See the caveats in the documentation: https://pandas.pydata.org/pandas-docs/stable/user_guide/indexing.html#returning-a-view-versus-a-copy\n",
      "  yelp['text']=yelp['text'].str.replace('\\n',' ').str.replace('\\r','')\n"
     ]
    }
   ],
   "source": [
    "yelp['text']=yelp['text'].str.lower()\n",
    "#change all strings to be lower\n",
    "yelp['text']=yelp['text'].str.replace('[^\\w\\s]','')\n",
    "#get rid of unwanted characters such as punctuation marks\n",
    "yelp['text']=yelp['text'].str.replace('\\d+','')\n",
    "#removing numerals\n",
    "yelp['text']=yelp['text'].str.replace('\\n',' ').str.replace('\\r','')"
   ]
  },
  {
   "cell_type": "code",
   "execution_count": 34,
   "metadata": {
    "colab": {
     "base_uri": "https://localhost:8080/",
     "height": 424
    },
    "id": "fun7ZqJXztON",
    "outputId": "8d84c142-26bd-4e8e-ae6e-013ea1fd84b4",
    "ExecuteTime": {
     "end_time": "2023-11-15T10:20:56.055980Z",
     "start_time": "2023-11-15T10:20:56.044436Z"
    }
   },
   "outputs": [
    {
     "data": {
      "text/plain": "                                                   text  label\n0     if you decide to eat here, just be aware it is...      1\n1     i've taken a lot of spin classes over the year...      1\n2     family diner. had the buffet. eclectic assortm...      1\n3     wow!  yummy, different,  delicious.   our favo...      1\n4     cute interior and owner (?) gave us tour of up...      1\n...                                                 ...    ...\n9995  excellent food and service. the place is funct...      1\n9996  just about to get tucked into a meatloaf that ...      1\n9997  outstanding customer service! and my car is dr...      1\n9998  i and my husband went here for dinner one day ...      1\n9999  i saw big data when they came to town at the k...      0\n\n[9989 rows x 2 columns]",
      "text/html": "<div>\n<style scoped>\n    .dataframe tbody tr th:only-of-type {\n        vertical-align: middle;\n    }\n\n    .dataframe tbody tr th {\n        vertical-align: top;\n    }\n\n    .dataframe thead th {\n        text-align: right;\n    }\n</style>\n<table border=\"1\" class=\"dataframe\">\n  <thead>\n    <tr style=\"text-align: right;\">\n      <th></th>\n      <th>text</th>\n      <th>label</th>\n    </tr>\n  </thead>\n  <tbody>\n    <tr>\n      <th>0</th>\n      <td>if you decide to eat here, just be aware it is...</td>\n      <td>1</td>\n    </tr>\n    <tr>\n      <th>1</th>\n      <td>i've taken a lot of spin classes over the year...</td>\n      <td>1</td>\n    </tr>\n    <tr>\n      <th>2</th>\n      <td>family diner. had the buffet. eclectic assortm...</td>\n      <td>1</td>\n    </tr>\n    <tr>\n      <th>3</th>\n      <td>wow!  yummy, different,  delicious.   our favo...</td>\n      <td>1</td>\n    </tr>\n    <tr>\n      <th>4</th>\n      <td>cute interior and owner (?) gave us tour of up...</td>\n      <td>1</td>\n    </tr>\n    <tr>\n      <th>...</th>\n      <td>...</td>\n      <td>...</td>\n    </tr>\n    <tr>\n      <th>9995</th>\n      <td>excellent food and service. the place is funct...</td>\n      <td>1</td>\n    </tr>\n    <tr>\n      <th>9996</th>\n      <td>just about to get tucked into a meatloaf that ...</td>\n      <td>1</td>\n    </tr>\n    <tr>\n      <th>9997</th>\n      <td>outstanding customer service! and my car is dr...</td>\n      <td>1</td>\n    </tr>\n    <tr>\n      <th>9998</th>\n      <td>i and my husband went here for dinner one day ...</td>\n      <td>1</td>\n    </tr>\n    <tr>\n      <th>9999</th>\n      <td>i saw big data when they came to town at the k...</td>\n      <td>0</td>\n    </tr>\n  </tbody>\n</table>\n<p>9989 rows × 2 columns</p>\n</div>"
     },
     "execution_count": 34,
     "metadata": {},
     "output_type": "execute_result"
    }
   ],
   "source": [
    "yelp"
   ]
  },
  {
   "cell_type": "code",
   "execution_count": 35,
   "metadata": {
    "colab": {
     "base_uri": "https://localhost:8080/"
    },
    "id": "xI2J7SUNzvoA",
    "outputId": "35df7ece-fc14-4ca7-f624-4a29617c9afa",
    "ExecuteTime": {
     "end_time": "2023-11-15T10:20:57.044347Z",
     "start_time": "2023-11-15T10:20:57.025966Z"
    }
   },
   "outputs": [
    {
     "data": {
      "text/plain": "label\n1    8149\n0    1840\nName: count, dtype: int64"
     },
     "execution_count": 35,
     "metadata": {},
     "output_type": "execute_result"
    }
   ],
   "source": [
    "yelp.label.value_counts()"
   ]
  },
  {
   "cell_type": "code",
   "execution_count": 36,
   "metadata": {
    "colab": {
     "base_uri": "https://localhost:8080/",
     "height": 482
    },
    "id": "k18qYSOcz1zT",
    "outputId": "f3743fcc-edb7-4f0b-c82f-658b8591af56",
    "ExecuteTime": {
     "end_time": "2023-11-15T10:20:58.118803Z",
     "start_time": "2023-11-15T10:20:57.881931Z"
    }
   },
   "outputs": [
    {
     "data": {
      "text/plain": "<Figure size 800x500 with 1 Axes>",
      "image/png": "[encoded data removed]"
     },
     "metadata": {},
     "output_type": "display_data"
    }
   ],
   "source": [
    "ax = yelp['label'].value_counts().sort_index() \\\n",
    "     .plot (kind='bar',\n",
    "     title='Count of Reviews by Label (train data)',\n",
    "     figsize=(8, 5), color = ['red', 'green'])\n",
    "\n",
    "ax.set_xlabel('Review Sentiment')\n",
    "ax.set_ylabel ('Number of reviews')\n",
    "plt.show()"
   ]
  },
  {
   "cell_type": "code",
   "execution_count": 37,
   "metadata": {
    "colab": {
     "base_uri": "https://localhost:8080/"
    },
    "id": "AXV7-zVh0MGf",
    "outputId": "191ff8fe-0ce2-4575-8832-62618790a918",
    "ExecuteTime": {
     "end_time": "2023-11-15T10:21:01.485228Z",
     "start_time": "2023-11-15T10:20:59.680252Z"
    }
   },
   "outputs": [
    {
     "name": "stdout",
     "output_type": "stream",
     "text": [
      "Requirement already satisfied: transformers in /Users/chalana/anaconda3/envs/myEnv/lib/python3.8/site-packages (4.35.0)\r\n",
      "Requirement already satisfied: filelock in /Users/chalana/anaconda3/envs/myEnv/lib/python3.8/site-packages (from transformers) (3.12.4)\r\n",
      "Requirement already satisfied: huggingface-hub<1.0,>=0.16.4 in /Users/chalana/anaconda3/envs/myEnv/lib/python3.8/site-packages (from transformers) (0.17.3)\r\n",
      "Requirement already satisfied: numpy>=1.17 in /Users/chalana/anaconda3/envs/myEnv/lib/python3.8/site-packages (from transformers) (1.24.3)\r\n",
      "Requirement already satisfied: packaging>=20.0 in /Users/chalana/anaconda3/envs/myEnv/lib/python3.8/site-packages (from transformers) (23.1)\r\n",
      "Requirement already satisfied: pyyaml>=5.1 in /Users/chalana/anaconda3/envs/myEnv/lib/python3.8/site-packages (from transformers) (6.0)\r\n",
      "Requirement already satisfied: regex!=2019.12.17 in /Users/chalana/anaconda3/envs/myEnv/lib/python3.8/site-packages (from transformers) (2023.10.3)\r\n",
      "Requirement already satisfied: requests in /Users/chalana/anaconda3/envs/myEnv/lib/python3.8/site-packages (from transformers) (2.31.0)\r\n",
      "Requirement already satisfied: tokenizers<0.15,>=0.14 in /Users/chalana/anaconda3/envs/myEnv/lib/python3.8/site-packages (from transformers) (0.14.1)\r\n",
      "Requirement already satisfied: safetensors>=0.3.1 in /Users/chalana/anaconda3/envs/myEnv/lib/python3.8/site-packages (from transformers) (0.4.0)\r\n",
      "Requirement already satisfied: tqdm>=4.27 in /Users/chalana/anaconda3/envs/myEnv/lib/python3.8/site-packages (from transformers) (4.66.1)\r\n",
      "Requirement already satisfied: fsspec in /Users/chalana/anaconda3/envs/myEnv/lib/python3.8/site-packages (from huggingface-hub<1.0,>=0.16.4->transformers) (2023.9.2)\r\n",
      "Requirement already satisfied: typing-extensions>=3.7.4.3 in /Users/chalana/anaconda3/envs/myEnv/lib/python3.8/site-packages (from huggingface-hub<1.0,>=0.16.4->transformers) (4.7.1)\r\n",
      "Requirement already satisfied: charset-normalizer<4,>=2 in /Users/chalana/anaconda3/envs/myEnv/lib/python3.8/site-packages (from requests->transformers) (2.0.4)\r\n",
      "Requirement already satisfied: idna<4,>=2.5 in /Users/chalana/anaconda3/envs/myEnv/lib/python3.8/site-packages (from requests->transformers) (3.4)\r\n",
      "Requirement already satisfied: urllib3<3,>=1.21.1 in /Users/chalana/anaconda3/envs/myEnv/lib/python3.8/site-packages (from requests->transformers) (1.26.16)\r\n",
      "Requirement already satisfied: certifi>=2017.4.17 in /Users/chalana/anaconda3/envs/myEnv/lib/python3.8/site-packages (from requests->transformers) (2023.7.22)\r\n"
     ]
    }
   ],
   "source": [
    "!pip install transformers"
   ]
  },
  {
   "cell_type": "code",
   "execution_count": 38,
   "metadata": {
    "id": "cxE2kBxGz7mZ",
    "ExecuteTime": {
     "end_time": "2023-11-15T10:21:04.704343Z",
     "start_time": "2023-11-15T10:21:02.087303Z"
    }
   },
   "outputs": [],
   "source": [
    "import torch\n",
    "from transformers import DistilBertTokenizer, DistilBertForSequenceClassification\n",
    "from sklearn.model_selection import train_test_split\n",
    "from sklearn.metrics import accuracy_score, confusion_matrix, classification_report\n",
    "from torch.utils.data import DataLoader, TensorDataset\n",
    "import pandas as pd"
   ]
  },
  {
   "cell_type": "code",
   "execution_count": 39,
   "metadata": {
    "id": "cAA_psOa0EEu",
    "ExecuteTime": {
     "end_time": "2023-11-15T10:21:05.386896Z",
     "start_time": "2023-11-15T10:21:05.378291Z"
    }
   },
   "outputs": [],
   "source": [
    "# Split the dataset into training and testing sets\n",
    "train_texts, test_texts, train_labels, test_labels = train_test_split(yelp['text'], yelp['label'], test_size=0.2, random_state=42)"
   ]
  },
  {
   "cell_type": "code",
   "execution_count": 40,
   "metadata": {
    "colab": {
     "base_uri": "https://localhost:8080/",
     "height": 233,
     "referenced_widgets": [
      "be1c20974dd94f229ae11f84375f7004",
      "1793ec8b0b404c02b9f022e62859608d",
      "243fff865ff5403089c84621b74897d9",
      "4caed94d333c47eaae619e8bfc4fc186",
      "cda77525032e45fc9d3825edcbfbb7b4",
      "a6829327d73a41759c653f6adf72802a",
      "52cdff3df76c4a9c914289099d6c70d9",
      "69170b77aecb4a3d8a9a4efb99df77f0",
      "071dc5a87db24c37a70b8dac01615364",
      "97fdb2e2cc454b7aa3e29428a6597198",
      "d2c196201e244cf5b79cb110285fac3f",
      "df34091f692b4a5d9eb4ad3984c00115",
      "eb01ead77a4b4fbd8f50ae0e4df9e723",
      "462984f16c884442ad31dfcd7f1d3cd9",
      "5a03fe8f0b534fae8d1c7eb9240151ad",
      "a7299d1b81294492a2edb5efea0a7c7f",
      "b04968c1ed2a403491ffe0b4e593be8b",
      "ebfc42f1ede741ceacb619a8f70620a9",
      "b93770b208354bcab816cf6c31a32bba",
      "93281e18bbe44a0aa1c544dc5dea743e",
      "d245a94e512544318acf70629a08f338",
      "140fb883a45f4fd2b2a0dfb71185f1db",
      "e0dbfc60e597425a812b51dd978ad033",
      "0b2027a3b99b49aba143555629464698",
      "7509223f42ce4964a74a80dc27760f12",
      "e8b67706c19141b599f0d96d718f9100",
      "034e9ca938974304b263364ea31fe6dd",
      "f8e78cbdcc3740d2a8112de61ecd94d9",
      "03e39c58983d4d0592636790de4b7ce8",
      "338930e92e6d44ceb6ad4bfc8a6bfd50",
      "187c7a25324f4fa7b08e39acffa9b655",
      "a09c9e2e52604437a8c1cb8be98a41da",
      "183f13f2441a4bb886a120bf395a1ae9",
      "a959a855d22b46f4baff9bb44356ba5b",
      "72c1b58d3f1348efa579c479a3cf4a38",
      "326b56f7b4f04dc68f6fdb85d0a0bd40",
      "2b1e2a7627fa49d699bff47b4e042057",
      "96831b4d08a14a9898ef9c07c0a264ff",
      "32d17207d1374e3ea194518f1b733f97",
      "fbbe8e43db214361a456333aab4fbad1",
      "83a17c4708dc471391ff25ece3f86c8d",
      "a7fea0e22312437e81932d2760a97501",
      "6e4e10e17f724170b4903a7599dd3191",
      "61e929f76c2f4de2ac8d48ccd00072cc",
      "fe11b4a6878246b3bd995b0f7add716d",
      "d027881691b3445783f2b045b7433067",
      "165a71e1e7d34955a49f4358b128ae6c",
      "7c7deedce3a44296adc99300da31bc7a",
      "3c806c9034644919bc0090bf1451bda9",
      "c383f76c8298471d81ec75fe90e63bec",
      "8dac0ff8438b4bf6b9fc68b706447615",
      "4bf824b0a60e410983f58ff068e14c22",
      "1cadc65fa9f34617be17a70f540e0675",
      "5166b4a9c87443fba657abb9879495e2",
      "d1fda9a6a3254c84abd499c72fcc9da1"
     ]
    },
    "id": "nLLa_0bM0o4Q",
    "outputId": "6a401334-4083-493f-fea1-2c335b7f4a4e",
    "ExecuteTime": {
     "end_time": "2023-11-15T10:21:09.535420Z",
     "start_time": "2023-11-15T10:21:06.425755Z"
    }
   },
   "outputs": [
    {
     "name": "stderr",
     "output_type": "stream",
     "text": [
      "Some weights of DistilBertForSequenceClassification were not initialized from the model checkpoint at distilbert-base-uncased and are newly initialized: ['pre_classifier.weight', 'classifier.bias', 'pre_classifier.bias', 'classifier.weight']\n",
      "You should probably TRAIN this model on a down-stream task to be able to use it for predictions and inference.\n"
     ]
    }
   ],
   "source": [
    "# Load pre-trained DistilBERT tokenizer and model\n",
    "tokenizer = DistilBertTokenizer.from_pretrained('distilbert-base-uncased')\n",
    "model = DistilBertForSequenceClassification.from_pretrained('distilbert-base-uncased')"
   ]
  },
  {
   "cell_type": "code",
   "execution_count": 41,
   "metadata": {
    "id": "UPIaPgON0stt",
    "ExecuteTime": {
     "end_time": "2023-11-15T10:21:20.343671Z",
     "start_time": "2023-11-15T10:21:10.679992Z"
    }
   },
   "outputs": [],
   "source": [
    "# Tokenize the input texts\n",
    "train_encodings = tokenizer(train_texts.tolist(), truncation=True, padding=True)\n",
    "test_encodings = tokenizer(test_texts.tolist(), truncation=True, padding=True)"
   ]
  },
  {
   "cell_type": "code",
   "execution_count": 42,
   "metadata": {
    "id": "hJXrlM630xiT",
    "ExecuteTime": {
     "end_time": "2023-11-15T10:21:22.766440Z",
     "start_time": "2023-11-15T10:21:22.765234Z"
    }
   },
   "outputs": [],
   "source": [
    "# Create PyTorch datasets\n",
    "train_dataset = TensorDataset(torch.tensor(train_encodings['input_ids']),\n",
    "                              torch.tensor(train_encodings['attention_mask']),\n",
    "                              torch.tensor(train_labels.tolist()))\n",
    "test_dataset = TensorDataset(torch.tensor(test_encodings['input_ids']),\n",
    "                             torch.tensor(test_encodings['attention_mask']),\n",
    "                             torch.tensor(test_labels.tolist()))\n"
   ]
  },
  {
   "cell_type": "code",
   "execution_count": 43,
   "metadata": {
    "id": "8-vjkP671CK8",
    "ExecuteTime": {
     "end_time": "2023-11-15T10:21:25.746152Z",
     "start_time": "2023-11-15T10:21:25.739313Z"
    }
   },
   "outputs": [],
   "source": [
    "# Create data loaders\n",
    "train_loader = DataLoader(train_dataset, batch_size=16, shuffle=True)\n",
    "test_loader = DataLoader(test_dataset, batch_size=16, shuffle=False)"
   ]
  },
  {
   "cell_type": "code",
   "execution_count": 44,
   "metadata": {
    "colab": {
     "base_uri": "https://localhost:8080/"
    },
    "id": "mEO4C-uo1SCQ",
    "outputId": "59027bf4-bad3-4666-b643-6651905ddcf5",
    "ExecuteTime": {
     "end_time": "2023-11-15T10:21:27.089269Z",
     "start_time": "2023-11-15T10:21:27.064024Z"
    }
   },
   "outputs": [
    {
     "data": {
      "text/plain": "DistilBertForSequenceClassification(\n  (distilbert): DistilBertModel(\n    (embeddings): Embeddings(\n      (word_embeddings): Embedding(30522, 768, padding_idx=0)\n      (position_embeddings): Embedding(512, 768)\n      (LayerNorm): LayerNorm((768,), eps=1e-12, elementwise_affine=True)\n      (dropout): Dropout(p=0.1, inplace=False)\n    )\n    (transformer): Transformer(\n      (layer): ModuleList(\n        (0-5): 6 x TransformerBlock(\n          (attention): MultiHeadSelfAttention(\n            (dropout): Dropout(p=0.1, inplace=False)\n            (q_lin): Linear(in_features=768, out_features=768, bias=True)\n            (k_lin): Linear(in_features=768, out_features=768, bias=True)\n            (v_lin): Linear(in_features=768, out_features=768, bias=True)\n            (out_lin): Linear(in_features=768, out_features=768, bias=True)\n          )\n          (sa_layer_norm): LayerNorm((768,), eps=1e-12, elementwise_affine=True)\n          (ffn): FFN(\n            (dropout): Dropout(p=0.1, inplace=False)\n            (lin1): Linear(in_features=768, out_features=3072, bias=True)\n            (lin2): Linear(in_features=3072, out_features=768, bias=True)\n            (activation): GELUActivation()\n          )\n          (output_layer_norm): LayerNorm((768,), eps=1e-12, elementwise_affine=True)\n        )\n      )\n    )\n  )\n  (pre_classifier): Linear(in_features=768, out_features=768, bias=True)\n  (classifier): Linear(in_features=768, out_features=2, bias=True)\n  (dropout): Dropout(p=0.2, inplace=False)\n)"
     },
     "execution_count": 44,
     "metadata": {},
     "output_type": "execute_result"
    }
   ],
   "source": [
    "# Set device (GPU if available, else CPU)\n",
    "device = torch.device('cuda' if torch.cuda.is_available() else 'cpu')\n",
    "model.to(device)"
   ]
  },
  {
   "cell_type": "code",
   "execution_count": 45,
   "metadata": {
    "id": "LkO1tqdg1UJU",
    "ExecuteTime": {
     "end_time": "2023-11-15T10:21:29.743236Z",
     "start_time": "2023-11-15T10:21:29.733641Z"
    }
   },
   "outputs": [],
   "source": [
    "# Training parameters\n",
    "epochs = 3\n",
    "optimizer = torch.optim.AdamW(model.parameters(), lr=2e-5)"
   ]
  },
  {
   "cell_type": "code",
   "execution_count": null,
   "metadata": {
    "colab": {
     "base_uri": "https://localhost:8080/"
    },
    "id": "BzCRQ6A01ZW4",
    "outputId": "6c2a7957-19d5-4d5e-c2a5-4eea6a4a31ea",
    "is_executing": true,
    "ExecuteTime": {
     "start_time": "2023-11-15T10:21:31.027880Z"
    }
   },
   "outputs": [],
   "source": [
    "train_losses = []\n",
    "\n",
    "# Training loop\n",
    "for epoch in range(epochs):\n",
    "    model.train()\n",
    "    epoch_loss = 0\n",
    "    for batch in train_loader:\n",
    "        input_ids, attention_mask, labels = batch\n",
    "        input_ids, attention_mask, labels = input_ids.to(device), attention_mask.to(device), labels.to(device)\n",
    "\n",
    "        optimizer.zero_grad()\n",
    "        outputs = model(input_ids, attention_mask=attention_mask, labels=labels)\n",
    "        loss = outputs.loss\n",
    "        loss.backward()\n",
    "        optimizer.step()\n",
    "\n",
    "        epoch_loss += loss.item()\n",
    "\n",
    "\n",
    "    # Calculate average training loss for the epoch\n",
    "    avg_epoch_loss = epoch_loss / len(train_loader)\n",
    "    train_losses.append(avg_epoch_loss)\n",
    "    print(f'Epoch {epoch + 1}/{epochs}, Training Loss: {avg_epoch_loss:.4f}')"
   ]
  },
  {
   "cell_type": "code",
   "execution_count": null,
   "metadata": {
    "colab": {
     "base_uri": "https://localhost:8080/",
     "height": 564
    },
    "id": "22ARvDMNdhzT",
    "outputId": "b3ccb7d9-ee49-4359-b72a-9be98541988e"
   },
   "outputs": [
    {
     "data": {
      "image/png": "[encoded data removed]",
      "text/plain": [
       "<Figure size 800x600 with 1 Axes>"
      ]
     },
     "metadata": {},
     "output_type": "display_data"
    }
   ],
   "source": [
    "import pandas as pd\n",
    "import matplotlib.pyplot as plt\n",
    "\n",
    "# Plotting the training loss\n",
    "plt.figure(figsize=(8, 6))\n",
    "plt.plot(range(1, epochs + 1), train_losses, marker='o', color='b', label='Training Loss')\n",
    "plt.title('Training Loss')\n",
    "plt.xlabel('Epochs')\n",
    "plt.ylabel('Loss')\n",
    "plt.legend()\n",
    "plt.grid(True)\n",
    "plt.show()"
   ]
  },
  {
   "cell_type": "code",
   "execution_count": null,
   "metadata": {
    "id": "jkCMKmmC1b2K"
   },
   "outputs": [],
   "source": [
    "# Evaluation\n",
    "model.eval()\n",
    "predictions = []\n",
    "true_labels = []\n",
    "\n",
    "with torch.no_grad():\n",
    "    for batch in test_loader:\n",
    "        input_ids, attention_mask, labels = batch\n",
    "        input_ids, attention_mask, labels = input_ids.to(device), attention_mask.to(device), labels.to(device)\n",
    "        outputs = model(input_ids, attention_mask=attention_mask)\n",
    "        logits = outputs.logits\n",
    "        predictions.extend(torch.argmax(logits, dim=1).cpu().numpy())\n",
    "        true_labels.extend(labels.cpu().numpy())"
   ]
  },
  {
   "cell_type": "code",
   "execution_count": null,
   "metadata": {
    "colab": {
     "base_uri": "https://localhost:8080/"
    },
    "id": "CmWI7zld520A",
    "outputId": "fb1dfc30-8aba-4887-b78f-2645380bfb4f"
   },
   "outputs": [
    {
     "name": "stdout",
     "output_type": "stream",
     "text": [
      "Accuracy: 0.92\n"
     ]
    }
   ],
   "source": [
    "# Calculate accuracy\n",
    "accuracy = accuracy_score(true_labels, predictions)\n",
    "print(f'Accuracy: {accuracy:.2f}')"
   ]
  },
  {
   "cell_type": "code",
   "execution_count": null,
   "metadata": {
    "colab": {
     "base_uri": "https://localhost:8080/"
    },
    "id": "uFnNJGT86C0z",
    "outputId": "648a762c-92d4-4a62-dd6a-8531b9f7d259"
   },
   "outputs": [
    {
     "name": "stdout",
     "output_type": "stream",
     "text": [
      "Confusion Matrix:\n",
      "[[ 325   40]\n",
      " [ 113 1521]]\n"
     ]
    }
   ],
   "source": [
    "# Calculate confusion matrix\n",
    "confusion = confusion_matrix(true_labels, predictions)\n",
    "print(f'Confusion Matrix:\\n{confusion}')"
   ]
  },
  {
   "cell_type": "code",
   "execution_count": null,
   "metadata": {
    "colab": {
     "base_uri": "https://localhost:8080/",
     "height": 410
    },
    "id": "kmhMORDPdIdr",
    "outputId": "9b8aafb0-193b-4bcc-fbf8-c3dd0d9ac30a"
   },
   "outputs": [
    {
     "data": {
      "image/png": "[encoded data removed]",
      "text/plain": [
       "<Figure size 600x400 with 2 Axes>"
      ]
     },
     "metadata": {},
     "output_type": "display_data"
    }
   ],
   "source": [
    "import seaborn as sns\n",
    "import matplotlib.pyplot as plt\n",
    "\n",
    "# Calculate confusion matrix\n",
    "confusion = confusion_matrix(true_labels, predictions)\n",
    "\n",
    "# Plot the confusion matrix as a heatmap\n",
    "plt.figure(figsize=(6, 4))\n",
    "sns.heatmap(confusion, annot=True, fmt='d', cmap='Blues', xticklabels=['Class 0', 'Class 1'],\n",
    "            yticklabels=['Class 0', 'Class 1'])\n",
    "plt.xlabel('Predicted Labels')\n",
    "plt.ylabel('True Labels')\n",
    "plt.title('Confusion Matrix')\n",
    "plt.show()"
   ]
  },
  {
   "cell_type": "code",
   "execution_count": null,
   "metadata": {
    "colab": {
     "base_uri": "https://localhost:8080/"
    },
    "id": "j52qGGgM6Fgx",
    "outputId": "68af9ed2-f19f-4c62-8199-0c26f2112c2d"
   },
   "outputs": [
    {
     "name": "stdout",
     "output_type": "stream",
     "text": [
      "Classification Report:\n",
      "              precision    recall  f1-score   support\n",
      "\n",
      "     Class 0       0.74      0.89      0.81       365\n",
      "     Class 1       0.97      0.93      0.95      1634\n",
      "\n",
      "    accuracy                           0.92      1999\n",
      "   macro avg       0.86      0.91      0.88      1999\n",
      "weighted avg       0.93      0.92      0.93      1999\n"
     ]
    }
   ],
   "source": [
    "# Generate classification report\n",
    "class_report = classification_report(true_labels, predictions, target_names=['Class 0', 'Class 1'])\n",
    "print(f'Classification Report:\\n{class_report}')"
   ]
  },
  {
   "cell_type": "code",
   "execution_count": null,
   "metadata": {
    "colab": {
     "base_uri": "https://localhost:8080/"
    },
    "id": "8zsgoCuo7n_v",
    "outputId": "c799c1b0-7a77-4214-9a61-00abef58a9cd"
   },
   "outputs": [
    {
     "name": "stdout",
     "output_type": "stream",
     "text": [
      "Model and tokenizer saved successfully.\n"
     ]
    }
   ],
   "source": [
    "# Save the model to a directory\n",
    "model.save_pretrained('/content/mod')\n",
    "tokenizer.save_pretrained('/content/tok')\n",
    "\n",
    "print(\"Model and tokenizer saved successfully.\")"
   ]
  },
  {
   "cell_type": "code",
   "execution_count": null,
   "metadata": {
    "colab": {
     "base_uri": "https://localhost:8080/"
    },
    "id": "khNkH4Xv8yKr",
    "outputId": "2f470897-b3ee-4760-b25c-2ea1f86db963"
   },
   "outputs": [
    {
     "name": "stdout",
     "output_type": "stream",
     "text": [
      "Negative sentiment\n"
     ]
    }
   ],
   "source": [
    "import torch\n",
    "from transformers import DistilBertTokenizer, DistilBertForSequenceClassification\n",
    "\n",
    "# Load the saved tokenizer and model from the directory\n",
    "tokenizer = DistilBertTokenizer.from_pretrained('/content/tok')\n",
    "model = DistilBertForSequenceClassification.from_pretrained('/content/mod')\n",
    "\n",
    "# Set device (GPU if available, else CPU)\n",
    "device = torch.device('cuda' if torch.cuda.is_available() else 'cpu')\n",
    "model.to(device)\n",
    "\n",
    "def predict_sentiment(text):\n",
    "    # Tokenize the input text\n",
    "    inputs = tokenizer(text, return_tensors='pt', truncation=True, padding=True)\n",
    "    input_ids = inputs['input_ids'].to(device)\n",
    "    attention_mask = inputs['attention_mask'].to(device)\n",
    "\n",
    "    # Get model prediction\n",
    "    with torch.no_grad():\n",
    "        outputs = model(input_ids, attention_mask=attention_mask)\n",
    "\n",
    "    # Get predicted class\n",
    "    logits = outputs.logits\n",
    "    predicted_class = torch.argmax(logits, dim=1).item()\n",
    "\n",
    "    return predicted_class\n",
    "\n",
    "# Example usage\n",
    "text_example = \"foods are not good, i hate this restuarant!\"\n",
    "predicted_sentiment = predict_sentiment(text_example)\n",
    "if predicted_sentiment == 0:\n",
    "    print(\"Negative sentiment\")\n",
    "elif predicted_sentiment == 1:\n",
    "    print(\"Positive sentiment\")\n"
   ]
  },
  {
   "cell_type": "code",
   "execution_count": null,
   "metadata": {
    "id": "pqi-0EkekjTN"
   },
   "outputs": [],
   "source": []
  }
 ],
 "metadata": {
  "accelerator": "GPU",
  "colab": {
   "gpuType": "T4",
   "provenance": [],
   "toc_visible": true
  },
  "kernelspec": {
   "name": "python3",
   "language": "python",
   "display_name": "Python 3 (ipykernel)"
  },
  "language_info": {
   "codemirror_mode": {
    "name": "ipython",
    "version": 3
   },
   "file_extension": ".py",
   "mimetype": "text/x-python",
   "name": "python",
   "nbconvert_exporter": "python",
   "pygments_lexer": "ipython3",
   "version": "3.8.18"
  },
  "widgets": {
   "application/vnd.jupyter.widget-state+json": {
    "034e9ca938974304b263364ea31fe6dd": {
     "model_module": "@jupyter-widgets/base",
     "model_module_version": "1.2.0",
     "model_name": "LayoutModel",
     "state": {
      "_model_module": "@jupyter-widgets/base",
      "_model_module_version": "1.2.0",
      "_model_name": "LayoutModel",
      "_view_count": null,
      "_view_module": "@jupyter-widgets/base",
      "_view_module_version": "1.2.0",
      "_view_name": "LayoutView",
      "align_content": null,
      "align_items": null,
      "align_self": null,
      "border": null,
      "bottom": null,
      "display": null,
      "flex": null,
      "flex_flow": null,
      "grid_area": null,
      "grid_auto_columns": null,
      "grid_auto_flow": null,
      "grid_auto_rows": null,
      "grid_column": null,
      "grid_gap": null,
      "grid_row": null,
      "grid_template_areas": null,
      "grid_template_columns": null,
      "grid_template_rows": null,
      "height": null,
      "justify_content": null,
      "justify_items": null,
      "left": null,
      "margin": null,
      "max_height": null,
      "max_width": null,
      "min_height": null,
      "min_width": null,
      "object_fit": null,
      "object_position": null,
      "order": null,
      "overflow": null,
      "overflow_x": null,
      "overflow_y": null,
      "padding": null,
      "right": null,
      "top": null,
      "visibility": null,
      "width": null
     }
    },
    "03e39c58983d4d0592636790de4b7ce8": {
     "model_module": "@jupyter-widgets/controls",
     "model_module_version": "1.5.0",
     "model_name": "DescriptionStyleModel",
     "state": {
      "_model_module": "@jupyter-widgets/controls",
      "_model_module_version": "1.5.0",
      "_model_name": "DescriptionStyleModel",
      "_view_count": null,
      "_view_module": "@jupyter-widgets/base",
      "_view_module_version": "1.2.0",
      "_view_name": "StyleView",
      "description_width": ""
     }
    },
    "071dc5a87db24c37a70b8dac01615364": {
     "model_module": "@jupyter-widgets/controls",
     "model_module_version": "1.5.0",
     "model_name": "ProgressStyleModel",
     "state": {
      "_model_module": "@jupyter-widgets/controls",
      "_model_module_version": "1.5.0",
      "_model_name": "ProgressStyleModel",
      "_view_count": null,
      "_view_module": "@jupyter-widgets/base",
      "_view_module_version": "1.2.0",
      "_view_name": "StyleView",
      "bar_color": null,
      "description_width": ""
     }
    },
    "0b2027a3b99b49aba143555629464698": {
     "model_module": "@jupyter-widgets/controls",
     "model_module_version": "1.5.0",
     "model_name": "HTMLModel",
     "state": {
      "_dom_classes": [],
      "_model_module": "@jupyter-widgets/controls",
      "_model_module_version": "1.5.0",
      "_model_name": "HTMLModel",
      "_view_count": null,
      "_view_module": "@jupyter-widgets/controls",
      "_view_module_version": "1.5.0",
      "_view_name": "HTMLView",
      "description": "",
      "description_tooltip": null,
      "layout": "IPY_MODEL_f8e78cbdcc3740d2a8112de61ecd94d9",
      "placeholder": "​",
      "style": "IPY_MODEL_03e39c58983d4d0592636790de4b7ce8",
      "value": "Downloading (…)/main/tokenizer.json: 100%"
     }
    },
    "140fb883a45f4fd2b2a0dfb71185f1db": {
     "model_module": "@jupyter-widgets/controls",
     "model_module_version": "1.5.0",
     "model_name": "DescriptionStyleModel",
     "state": {
      "_model_module": "@jupyter-widgets/controls",
      "_model_module_version": "1.5.0",
      "_model_name": "DescriptionStyleModel",
      "_view_count": null,
      "_view_module": "@jupyter-widgets/base",
      "_view_module_version": "1.2.0",
      "_view_name": "StyleView",
      "description_width": ""
     }
    },
    "165a71e1e7d34955a49f4358b128ae6c": {
     "model_module": "@jupyter-widgets/controls",
     "model_module_version": "1.5.0",
     "model_name": "FloatProgressModel",
     "state": {
      "_dom_classes": [],
      "_model_module": "@jupyter-widgets/controls",
      "_model_module_version": "1.5.0",
      "_model_name": "FloatProgressModel",
      "_view_count": null,
      "_view_module": "@jupyter-widgets/controls",
      "_view_module_version": "1.5.0",
      "_view_name": "ProgressView",
      "bar_style": "success",
      "description": "",
      "description_tooltip": null,
      "layout": "IPY_MODEL_4bf824b0a60e410983f58ff068e14c22",
      "max": 267954768,
      "min": 0,
      "orientation": "horizontal",
      "style": "IPY_MODEL_1cadc65fa9f34617be17a70f540e0675",
      "value": 267954768
     }
    },
    "1793ec8b0b404c02b9f022e62859608d": {
     "model_module": "@jupyter-widgets/controls",
     "model_module_version": "1.5.0",
     "model_name": "HTMLModel",
     "state": {
      "_dom_classes": [],
      "_model_module": "@jupyter-widgets/controls",
      "_model_module_version": "1.5.0",
      "_model_name": "HTMLModel",
      "_view_count": null,
      "_view_module": "@jupyter-widgets/controls",
      "_view_module_version": "1.5.0",
      "_view_name": "HTMLView",
      "description": "",
      "description_tooltip": null,
      "layout": "IPY_MODEL_a6829327d73a41759c653f6adf72802a",
      "placeholder": "​",
      "style": "IPY_MODEL_52cdff3df76c4a9c914289099d6c70d9",
      "value": "Downloading (…)okenizer_config.json: 100%"
     }
    },
    "183f13f2441a4bb886a120bf395a1ae9": {
     "model_module": "@jupyter-widgets/controls",
     "model_module_version": "1.5.0",
     "model_name": "DescriptionStyleModel",
     "state": {
      "_model_module": "@jupyter-widgets/controls",
      "_model_module_version": "1.5.0",
      "_model_name": "DescriptionStyleModel",
      "_view_count": null,
      "_view_module": "@jupyter-widgets/base",
      "_view_module_version": "1.2.0",
      "_view_name": "StyleView",
      "description_width": ""
     }
    },
    "187c7a25324f4fa7b08e39acffa9b655": {
     "model_module": "@jupyter-widgets/controls",
     "model_module_version": "1.5.0",
     "model_name": "ProgressStyleModel",
     "state": {
      "_model_module": "@jupyter-widgets/controls",
      "_model_module_version": "1.5.0",
      "_model_name": "ProgressStyleModel",
      "_view_count": null,
      "_view_module": "@jupyter-widgets/base",
      "_view_module_version": "1.2.0",
      "_view_name": "StyleView",
      "bar_color": null,
      "description_width": ""
     }
    },
    "1cadc65fa9f34617be17a70f540e0675": {
     "model_module": "@jupyter-widgets/controls",
     "model_module_version": "1.5.0",
     "model_name": "ProgressStyleModel",
     "state": {
      "_model_module": "@jupyter-widgets/controls",
      "_model_module_version": "1.5.0",
      "_model_name": "ProgressStyleModel",
      "_view_count": null,
      "_view_module": "@jupyter-widgets/base",
      "_view_module_version": "1.2.0",
      "_view_name": "StyleView",
      "bar_color": null,
      "description_width": ""
     }
    },
    "243fff865ff5403089c84621b74897d9": {
     "model_module": "@jupyter-widgets/controls",
     "model_module_version": "1.5.0",
     "model_name": "FloatProgressModel",
     "state": {
      "_dom_classes": [],
      "_model_module": "@jupyter-widgets/controls",
      "_model_module_version": "1.5.0",
      "_model_name": "FloatProgressModel",
      "_view_count": null,
      "_view_module": "@jupyter-widgets/controls",
      "_view_module_version": "1.5.0",
      "_view_name": "ProgressView",
      "bar_style": "success",
      "description": "",
      "description_tooltip": null,
      "layout": "IPY_MODEL_69170b77aecb4a3d8a9a4efb99df77f0",
      "max": 28,
      "min": 0,
      "orientation": "horizontal",
      "style": "IPY_MODEL_071dc5a87db24c37a70b8dac01615364",
      "value": 28
     }
    },
    "2b1e2a7627fa49d699bff47b4e042057": {
     "model_module": "@jupyter-widgets/controls",
     "model_module_version": "1.5.0",
     "model_name": "HTMLModel",
     "state": {
      "_dom_classes": [],
      "_model_module": "@jupyter-widgets/controls",
      "_model_module_version": "1.5.0",
      "_model_name": "HTMLModel",
      "_view_count": null,
      "_view_module": "@jupyter-widgets/controls",
      "_view_module_version": "1.5.0",
      "_view_name": "HTMLView",
      "description": "",
      "description_tooltip": null,
      "layout": "IPY_MODEL_6e4e10e17f724170b4903a7599dd3191",
      "placeholder": "​",
      "style": "IPY_MODEL_61e929f76c2f4de2ac8d48ccd00072cc",
      "value": " 483/483 [00:00&lt;00:00, 30.0kB/s]"
     }
    },
    "326b56f7b4f04dc68f6fdb85d0a0bd40": {
     "model_module": "@jupyter-widgets/controls",
     "model_module_version": "1.5.0",
     "model_name": "FloatProgressModel",
     "state": {
      "_dom_classes": [],
      "_model_module": "@jupyter-widgets/controls",
      "_model_module_version": "1.5.0",
      "_model_name": "FloatProgressModel",
      "_view_count": null,
      "_view_module": "@jupyter-widgets/controls",
      "_view_module_version": "1.5.0",
      "_view_name": "ProgressView",
      "bar_style": "success",
      "description": "",
      "description_tooltip": null,
      "layout": "IPY_MODEL_83a17c4708dc471391ff25ece3f86c8d",
      "max": 483,
      "min": 0,
      "orientation": "horizontal",
      "style": "IPY_MODEL_a7fea0e22312437e81932d2760a97501",
      "value": 483
     }
    },
    "32d17207d1374e3ea194518f1b733f97": {
     "model_module": "@jupyter-widgets/base",
     "model_module_version": "1.2.0",
     "model_name": "LayoutModel",
     "state": {
      "_model_module": "@jupyter-widgets/base",
      "_model_module_version": "1.2.0",
      "_model_name": "LayoutModel",
      "_view_count": null,
      "_view_module": "@jupyter-widgets/base",
      "_view_module_version": "1.2.0",
      "_view_name": "LayoutView",
      "align_content": null,
      "align_items": null,
      "align_self": null,
      "border": null,
      "bottom": null,
      "display": null,
      "flex": null,
      "flex_flow": null,
      "grid_area": null,
      "grid_auto_columns": null,
      "grid_auto_flow": null,
      "grid_auto_rows": null,
      "grid_column": null,
      "grid_gap": null,
      "grid_row": null,
      "grid_template_areas": null,
      "grid_template_columns": null,
      "grid_template_rows": null,
      "height": null,
      "justify_content": null,
      "justify_items": null,
      "left": null,
      "margin": null,
      "max_height": null,
      "max_width": null,
      "min_height": null,
      "min_width": null,
      "object_fit": null,
      "object_position": null,
      "order": null,
      "overflow": null,
      "overflow_x": null,
      "overflow_y": null,
      "padding": null,
      "right": null,
      "top": null,
      "visibility": null,
      "width": null
     }
    },
    "338930e92e6d44ceb6ad4bfc8a6bfd50": {
     "model_module": "@jupyter-widgets/base",
     "model_module_version": "1.2.0",
     "model_name": "LayoutModel",
     "state": {
      "_model_module": "@jupyter-widgets/base",
      "_model_module_version": "1.2.0",
      "_model_name": "LayoutModel",
      "_view_count": null,
      "_view_module": "@jupyter-widgets/base",
      "_view_module_version": "1.2.0",
      "_view_name": "LayoutView",
      "align_content": null,
      "align_items": null,
      "align_self": null,
      "border": null,
      "bottom": null,
      "display": null,
      "flex": null,
      "flex_flow": null,
      "grid_area": null,
      "grid_auto_columns": null,
      "grid_auto_flow": null,
      "grid_auto_rows": null,
      "grid_column": null,
      "grid_gap": null,
      "grid_row": null,
      "grid_template_areas": null,
      "grid_template_columns": null,
      "grid_template_rows": null,
      "height": null,
      "justify_content": null,
      "justify_items": null,
      "left": null,
      "margin": null,
      "max_height": null,
      "max_width": null,
      "min_height": null,
      "min_width": null,
      "object_fit": null,
      "object_position": null,
      "order": null,
      "overflow": null,
      "overflow_x": null,
      "overflow_y": null,
      "padding": null,
      "right": null,
      "top": null,
      "visibility": null,
      "width": null
     }
    },
    "3c806c9034644919bc0090bf1451bda9": {
     "model_module": "@jupyter-widgets/base",
     "model_module_version": "1.2.0",
     "model_name": "LayoutModel",
     "state": {
      "_model_module": "@jupyter-widgets/base",
      "_model_module_version": "1.2.0",
      "_model_name": "LayoutModel",
      "_view_count": null,
      "_view_module": "@jupyter-widgets/base",
      "_view_module_version": "1.2.0",
      "_view_name": "LayoutView",
      "align_content": null,
      "align_items": null,
      "align_self": null,
      "border": null,
      "bottom": null,
      "display": null,
      "flex": null,
      "flex_flow": null,
      "grid_area": null,
      "grid_auto_columns": null,
      "grid_auto_flow": null,
      "grid_auto_rows": null,
      "grid_column": null,
      "grid_gap": null,
      "grid_row": null,
      "grid_template_areas": null,
      "grid_template_columns": null,
      "grid_template_rows": null,
      "height": null,
      "justify_content": null,
      "justify_items": null,
      "left": null,
      "margin": null,
      "max_height": null,
      "max_width": null,
      "min_height": null,
      "min_width": null,
      "object_fit": null,
      "object_position": null,
      "order": null,
      "overflow": null,
      "overflow_x": null,
      "overflow_y": null,
      "padding": null,
      "right": null,
      "top": null,
      "visibility": null,
      "width": null
     }
    },
    "462984f16c884442ad31dfcd7f1d3cd9": {
     "model_module": "@jupyter-widgets/controls",
     "model_module_version": "1.5.0",
     "model_name": "FloatProgressModel",
     "state": {
      "_dom_classes": [],
      "_model_module": "@jupyter-widgets/controls",
      "_model_module_version": "1.5.0",
      "_model_name": "FloatProgressModel",
      "_view_count": null,
      "_view_module": "@jupyter-widgets/controls",
      "_view_module_version": "1.5.0",
      "_view_name": "ProgressView",
      "bar_style": "success",
      "description": "",
      "description_tooltip": null,
      "layout": "IPY_MODEL_b93770b208354bcab816cf6c31a32bba",
      "max": 231508,
      "min": 0,
      "orientation": "horizontal",
      "style": "IPY_MODEL_93281e18bbe44a0aa1c544dc5dea743e",
      "value": 231508
     }
    },
    "4bf824b0a60e410983f58ff068e14c22": {
     "model_module": "@jupyter-widgets/base",
     "model_module_version": "1.2.0",
     "model_name": "LayoutModel",
     "state": {
      "_model_module": "@jupyter-widgets/base",
      "_model_module_version": "1.2.0",
      "_model_name": "LayoutModel",
      "_view_count": null,
      "_view_module": "@jupyter-widgets/base",
      "_view_module_version": "1.2.0",
      "_view_name": "LayoutView",
      "align_content": null,
      "align_items": null,
      "align_self": null,
      "border": null,
      "bottom": null,
      "display": null,
      "flex": null,
      "flex_flow": null,
      "grid_area": null,
      "grid_auto_columns": null,
      "grid_auto_flow": null,
      "grid_auto_rows": null,
      "grid_column": null,
      "grid_gap": null,
      "grid_row": null,
      "grid_template_areas": null,
      "grid_template_columns": null,
      "grid_template_rows": null,
      "height": null,
      "justify_content": null,
      "justify_items": null,
      "left": null,
      "margin": null,
      "max_height": null,
      "max_width": null,
      "min_height": null,
      "min_width": null,
      "object_fit": null,
      "object_position": null,
      "order": null,
      "overflow": null,
      "overflow_x": null,
      "overflow_y": null,
      "padding": null,
      "right": null,
      "top": null,
      "visibility": null,
      "width": null
     }
    },
    "4caed94d333c47eaae619e8bfc4fc186": {
     "model_module": "@jupyter-widgets/controls",
     "model_module_version": "1.5.0",
     "model_name": "HTMLModel",
     "state": {
      "_dom_classes": [],
      "_model_module": "@jupyter-widgets/controls",
      "_model_module_version": "1.5.0",
      "_model_name": "HTMLModel",
      "_view_count": null,
      "_view_module": "@jupyter-widgets/controls",
      "_view_module_version": "1.5.0",
      "_view_name": "HTMLView",
      "description": "",
      "description_tooltip": null,
      "layout": "IPY_MODEL_97fdb2e2cc454b7aa3e29428a6597198",
      "placeholder": "​",
      "style": "IPY_MODEL_d2c196201e244cf5b79cb110285fac3f",
      "value": " 28.0/28.0 [00:00&lt;00:00, 1.54kB/s]"
     }
    },
    "5166b4a9c87443fba657abb9879495e2": {
     "model_module": "@jupyter-widgets/base",
     "model_module_version": "1.2.0",
     "model_name": "LayoutModel",
     "state": {
      "_model_module": "@jupyter-widgets/base",
      "_model_module_version": "1.2.0",
      "_model_name": "LayoutModel",
      "_view_count": null,
      "_view_module": "@jupyter-widgets/base",
      "_view_module_version": "1.2.0",
      "_view_name": "LayoutView",
      "align_content": null,
      "align_items": null,
      "align_self": null,
      "border": null,
      "bottom": null,
      "display": null,
      "flex": null,
      "flex_flow": null,
      "grid_area": null,
      "grid_auto_columns": null,
      "grid_auto_flow": null,
      "grid_auto_rows": null,
      "grid_column": null,
      "grid_gap": null,
      "grid_row": null,
      "grid_template_areas": null,
      "grid_template_columns": null,
      "grid_template_rows": null,
      "height": null,
      "justify_content": null,
      "justify_items": null,
      "left": null,
      "margin": null,
      "max_height": null,
      "max_width": null,
      "min_height": null,
      "min_width": null,
      "object_fit": null,
      "object_position": null,
      "order": null,
      "overflow": null,
      "overflow_x": null,
      "overflow_y": null,
      "padding": null,
      "right": null,
      "top": null,
      "visibility": null,
      "width": null
     }
    },
    "52cdff3df76c4a9c914289099d6c70d9": {
     "model_module": "@jupyter-widgets/controls",
     "model_module_version": "1.5.0",
     "model_name": "DescriptionStyleModel",
     "state": {
      "_model_module": "@jupyter-widgets/controls",
      "_model_module_version": "1.5.0",
      "_model_name": "DescriptionStyleModel",
      "_view_count": null,
      "_view_module": "@jupyter-widgets/base",
      "_view_module_version": "1.2.0",
      "_view_name": "StyleView",
      "description_width": ""
     }
    },
    "5a03fe8f0b534fae8d1c7eb9240151ad": {
     "model_module": "@jupyter-widgets/controls",
     "model_module_version": "1.5.0",
     "model_name": "HTMLModel",
     "state": {
      "_dom_classes": [],
      "_model_module": "@jupyter-widgets/controls",
      "_model_module_version": "1.5.0",
      "_model_name": "HTMLModel",
      "_view_count": null,
      "_view_module": "@jupyter-widgets/controls",
      "_view_module_version": "1.5.0",
      "_view_name": "HTMLView",
      "description": "",
      "description_tooltip": null,
      "layout": "IPY_MODEL_d245a94e512544318acf70629a08f338",
      "placeholder": "​",
      "style": "IPY_MODEL_140fb883a45f4fd2b2a0dfb71185f1db",
      "value": " 232k/232k [00:00&lt;00:00, 1.78MB/s]"
     }
    },
    "61e929f76c2f4de2ac8d48ccd00072cc": {
     "model_module": "@jupyter-widgets/controls",
     "model_module_version": "1.5.0",
     "model_name": "DescriptionStyleModel",
     "state": {
      "_model_module": "@jupyter-widgets/controls",
      "_model_module_version": "1.5.0",
      "_model_name": "DescriptionStyleModel",
      "_view_count": null,
      "_view_module": "@jupyter-widgets/base",
      "_view_module_version": "1.2.0",
      "_view_name": "StyleView",
      "description_width": ""
     }
    },
    "69170b77aecb4a3d8a9a4efb99df77f0": {
     "model_module": "@jupyter-widgets/base",
     "model_module_version": "1.2.0",
     "model_name": "LayoutModel",
     "state": {
      "_model_module": "@jupyter-widgets/base",
      "_model_module_version": "1.2.0",
      "_model_name": "LayoutModel",
      "_view_count": null,
      "_view_module": "@jupyter-widgets/base",
      "_view_module_version": "1.2.0",
      "_view_name": "LayoutView",
      "align_content": null,
      "align_items": null,
      "align_self": null,
      "border": null,
      "bottom": null,
      "display": null,
      "flex": null,
      "flex_flow": null,
      "grid_area": null,
      "grid_auto_columns": null,
      "grid_auto_flow": null,
      "grid_auto_rows": null,
      "grid_column": null,
      "grid_gap": null,
      "grid_row": null,
      "grid_template_areas": null,
      "grid_template_columns": null,
      "grid_template_rows": null,
      "height": null,
      "justify_content": null,
      "justify_items": null,
      "left": null,
      "margin": null,
      "max_height": null,
      "max_width": null,
      "min_height": null,
      "min_width": null,
      "object_fit": null,
      "object_position": null,
      "order": null,
      "overflow": null,
      "overflow_x": null,
      "overflow_y": null,
      "padding": null,
      "right": null,
      "top": null,
      "visibility": null,
      "width": null
     }
    },
    "6e4e10e17f724170b4903a7599dd3191": {
     "model_module": "@jupyter-widgets/base",
     "model_module_version": "1.2.0",
     "model_name": "LayoutModel",
     "state": {
      "_model_module": "@jupyter-widgets/base",
      "_model_module_version": "1.2.0",
      "_model_name": "LayoutModel",
      "_view_count": null,
      "_view_module": "@jupyter-widgets/base",
      "_view_module_version": "1.2.0",
      "_view_name": "LayoutView",
      "align_content": null,
      "align_items": null,
      "align_self": null,
      "border": null,
      "bottom": null,
      "display": null,
      "flex": null,
      "flex_flow": null,
      "grid_area": null,
      "grid_auto_columns": null,
      "grid_auto_flow": null,
      "grid_auto_rows": null,
      "grid_column": null,
      "grid_gap": null,
      "grid_row": null,
      "grid_template_areas": null,
      "grid_template_columns": null,
      "grid_template_rows": null,
      "height": null,
      "justify_content": null,
      "justify_items": null,
      "left": null,
      "margin": null,
      "max_height": null,
      "max_width": null,
      "min_height": null,
      "min_width": null,
      "object_fit": null,
      "object_position": null,
      "order": null,
      "overflow": null,
      "overflow_x": null,
      "overflow_y": null,
      "padding": null,
      "right": null,
      "top": null,
      "visibility": null,
      "width": null
     }
    },
    "72c1b58d3f1348efa579c479a3cf4a38": {
     "model_module": "@jupyter-widgets/controls",
     "model_module_version": "1.5.0",
     "model_name": "HTMLModel",
     "state": {
      "_dom_classes": [],
      "_model_module": "@jupyter-widgets/controls",
      "_model_module_version": "1.5.0",
      "_model_name": "HTMLModel",
      "_view_count": null,
      "_view_module": "@jupyter-widgets/controls",
      "_view_module_version": "1.5.0",
      "_view_name": "HTMLView",
      "description": "",
      "description_tooltip": null,
      "layout": "IPY_MODEL_32d17207d1374e3ea194518f1b733f97",
      "placeholder": "​",
      "style": "IPY_MODEL_fbbe8e43db214361a456333aab4fbad1",
      "value": "Downloading (…)lve/main/config.json: 100%"
     }
    },
    "7509223f42ce4964a74a80dc27760f12": {
     "model_module": "@jupyter-widgets/controls",
     "model_module_version": "1.5.0",
     "model_name": "FloatProgressModel",
     "state": {
      "_dom_classes": [],
      "_model_module": "@jupyter-widgets/controls",
      "_model_module_version": "1.5.0",
      "_model_name": "FloatProgressModel",
      "_view_count": null,
      "_view_module": "@jupyter-widgets/controls",
      "_view_module_version": "1.5.0",
      "_view_name": "ProgressView",
      "bar_style": "success",
      "description": "",
      "description_tooltip": null,
      "layout": "IPY_MODEL_338930e92e6d44ceb6ad4bfc8a6bfd50",
      "max": 466062,
      "min": 0,
      "orientation": "horizontal",
      "style": "IPY_MODEL_187c7a25324f4fa7b08e39acffa9b655",
      "value": 466062
     }
    },
    "7c7deedce3a44296adc99300da31bc7a": {
     "model_module": "@jupyter-widgets/controls",
     "model_module_version": "1.5.0",
     "model_name": "HTMLModel",
     "state": {
      "_dom_classes": [],
      "_model_module": "@jupyter-widgets/controls",
      "_model_module_version": "1.5.0",
      "_model_name": "HTMLModel",
      "_view_count": null,
      "_view_module": "@jupyter-widgets/controls",
      "_view_module_version": "1.5.0",
      "_view_name": "HTMLView",
      "description": "",
      "description_tooltip": null,
      "layout": "IPY_MODEL_5166b4a9c87443fba657abb9879495e2",
      "placeholder": "​",
      "style": "IPY_MODEL_d1fda9a6a3254c84abd499c72fcc9da1",
      "value": " 268M/268M [00:01&lt;00:00, 287MB/s]"
     }
    },
    "83a17c4708dc471391ff25ece3f86c8d": {
     "model_module": "@jupyter-widgets/base",
     "model_module_version": "1.2.0",
     "model_name": "LayoutModel",
     "state": {
      "_model_module": "@jupyter-widgets/base",
      "_model_module_version": "1.2.0",
      "_model_name": "LayoutModel",
      "_view_count": null,
      "_view_module": "@jupyter-widgets/base",
      "_view_module_version": "1.2.0",
      "_view_name": "LayoutView",
      "align_content": null,
      "align_items": null,
      "align_self": null,
      "border": null,
      "bottom": null,
      "display": null,
      "flex": null,
      "flex_flow": null,
      "grid_area": null,
      "grid_auto_columns": null,
      "grid_auto_flow": null,
      "grid_auto_rows": null,
      "grid_column": null,
      "grid_gap": null,
      "grid_row": null,
      "grid_template_areas": null,
      "grid_template_columns": null,
      "grid_template_rows": null,
      "height": null,
      "justify_content": null,
      "justify_items": null,
      "left": null,
      "margin": null,
      "max_height": null,
      "max_width": null,
      "min_height": null,
      "min_width": null,
      "object_fit": null,
      "object_position": null,
      "order": null,
      "overflow": null,
      "overflow_x": null,
      "overflow_y": null,
      "padding": null,
      "right": null,
      "top": null,
      "visibility": null,
      "width": null
     }
    },
    "8dac0ff8438b4bf6b9fc68b706447615": {
     "model_module": "@jupyter-widgets/controls",
     "model_module_version": "1.5.0",
     "model_name": "DescriptionStyleModel",
     "state": {
      "_model_module": "@jupyter-widgets/controls",
      "_model_module_version": "1.5.0",
      "_model_name": "DescriptionStyleModel",
      "_view_count": null,
      "_view_module": "@jupyter-widgets/base",
      "_view_module_version": "1.2.0",
      "_view_name": "StyleView",
      "description_width": ""
     }
    },
    "93281e18bbe44a0aa1c544dc5dea743e": {
     "model_module": "@jupyter-widgets/controls",
     "model_module_version": "1.5.0",
     "model_name": "ProgressStyleModel",
     "state": {
      "_model_module": "@jupyter-widgets/controls",
      "_model_module_version": "1.5.0",
      "_model_name": "ProgressStyleModel",
      "_view_count": null,
      "_view_module": "@jupyter-widgets/base",
      "_view_module_version": "1.2.0",
      "_view_name": "StyleView",
      "bar_color": null,
      "description_width": ""
     }
    },
    "96831b4d08a14a9898ef9c07c0a264ff": {
     "model_module": "@jupyter-widgets/base",
     "model_module_version": "1.2.0",
     "model_name": "LayoutModel",
     "state": {
      "_model_module": "@jupyter-widgets/base",
      "_model_module_version": "1.2.0",
      "_model_name": "LayoutModel",
      "_view_count": null,
      "_view_module": "@jupyter-widgets/base",
      "_view_module_version": "1.2.0",
      "_view_name": "LayoutView",
      "align_content": null,
      "align_items": null,
      "align_self": null,
      "border": null,
      "bottom": null,
      "display": null,
      "flex": null,
      "flex_flow": null,
      "grid_area": null,
      "grid_auto_columns": null,
      "grid_auto_flow": null,
      "grid_auto_rows": null,
      "grid_column": null,
      "grid_gap": null,
      "grid_row": null,
      "grid_template_areas": null,
      "grid_template_columns": null,
      "grid_template_rows": null,
      "height": null,
      "justify_content": null,
      "justify_items": null,
      "left": null,
      "margin": null,
      "max_height": null,
      "max_width": null,
      "min_height": null,
      "min_width": null,
      "object_fit": null,
      "object_position": null,
      "order": null,
      "overflow": null,
      "overflow_x": null,
      "overflow_y": null,
      "padding": null,
      "right": null,
      "top": null,
      "visibility": null,
      "width": null
     }
    },
    "97fdb2e2cc454b7aa3e29428a6597198": {
     "model_module": "@jupyter-widgets/base",
     "model_module_version": "1.2.0",
     "model_name": "LayoutModel",
     "state": {
      "_model_module": "@jupyter-widgets/base",
      "_model_module_version": "1.2.0",
      "_model_name": "LayoutModel",
      "_view_count": null,
      "_view_module": "@jupyter-widgets/base",
      "_view_module_version": "1.2.0",
      "_view_name": "LayoutView",
      "align_content": null,
      "align_items": null,
      "align_self": null,
      "border": null,
      "bottom": null,
      "display": null,
      "flex": null,
      "flex_flow": null,
      "grid_area": null,
      "grid_auto_columns": null,
      "grid_auto_flow": null,
      "grid_auto_rows": null,
      "grid_column": null,
      "grid_gap": null,
      "grid_row": null,
      "grid_template_areas": null,
      "grid_template_columns": null,
      "grid_template_rows": null,
      "height": null,
      "justify_content": null,
      "justify_items": null,
      "left": null,
      "margin": null,
      "max_height": null,
      "max_width": null,
      "min_height": null,
      "min_width": null,
      "object_fit": null,
      "object_position": null,
      "order": null,
      "overflow": null,
      "overflow_x": null,
      "overflow_y": null,
      "padding": null,
      "right": null,
      "top": null,
      "visibility": null,
      "width": null
     }
    },
    "a09c9e2e52604437a8c1cb8be98a41da": {
     "model_module": "@jupyter-widgets/base",
     "model_module_version": "1.2.0",
     "model_name": "LayoutModel",
     "state": {
      "_model_module": "@jupyter-widgets/base",
      "_model_module_version": "1.2.0",
      "_model_name": "LayoutModel",
      "_view_count": null,
      "_view_module": "@jupyter-widgets/base",
      "_view_module_version": "1.2.0",
      "_view_name": "LayoutView",
      "align_content": null,
      "align_items": null,
      "align_self": null,
      "border": null,
      "bottom": null,
      "display": null,
      "flex": null,
      "flex_flow": null,
      "grid_area": null,
      "grid_auto_columns": null,
      "grid_auto_flow": null,
      "grid_auto_rows": null,
      "grid_column": null,
      "grid_gap": null,
      "grid_row": null,
      "grid_template_areas": null,
      "grid_template_columns": null,
      "grid_template_rows": null,
      "height": null,
      "justify_content": null,
      "justify_items": null,
      "left": null,
      "margin": null,
      "max_height": null,
      "max_width": null,
      "min_height": null,
      "min_width": null,
      "object_fit": null,
      "object_position": null,
      "order": null,
      "overflow": null,
      "overflow_x": null,
      "overflow_y": null,
      "padding": null,
      "right": null,
      "top": null,
      "visibility": null,
      "width": null
     }
    },
    "a6829327d73a41759c653f6adf72802a": {
     "model_module": "@jupyter-widgets/base",
     "model_module_version": "1.2.0",
     "model_name": "LayoutModel",
     "state": {
      "_model_module": "@jupyter-widgets/base",
      "_model_module_version": "1.2.0",
      "_model_name": "LayoutModel",
      "_view_count": null,
      "_view_module": "@jupyter-widgets/base",
      "_view_module_version": "1.2.0",
      "_view_name": "LayoutView",
      "align_content": null,
      "align_items": null,
      "align_self": null,
      "border": null,
      "bottom": null,
      "display": null,
      "flex": null,
      "flex_flow": null,
      "grid_area": null,
      "grid_auto_columns": null,
      "grid_auto_flow": null,
      "grid_auto_rows": null,
      "grid_column": null,
      "grid_gap": null,
      "grid_row": null,
      "grid_template_areas": null,
      "grid_template_columns": null,
      "grid_template_rows": null,
      "height": null,
      "justify_content": null,
      "justify_items": null,
      "left": null,
      "margin": null,
      "max_height": null,
      "max_width": null,
      "min_height": null,
      "min_width": null,
      "object_fit": null,
      "object_position": null,
      "order": null,
      "overflow": null,
      "overflow_x": null,
      "overflow_y": null,
      "padding": null,
      "right": null,
      "top": null,
      "visibility": null,
      "width": null
     }
    },
    "a7299d1b81294492a2edb5efea0a7c7f": {
     "model_module": "@jupyter-widgets/base",
     "model_module_version": "1.2.0",
     "model_name": "LayoutModel",
     "state": {
      "_model_module": "@jupyter-widgets/base",
      "_model_module_version": "1.2.0",
      "_model_name": "LayoutModel",
      "_view_count": null,
      "_view_module": "@jupyter-widgets/base",
      "_view_module_version": "1.2.0",
      "_view_name": "LayoutView",
      "align_content": null,
      "align_items": null,
      "align_self": null,
      "border": null,
      "bottom": null,
      "display": null,
      "flex": null,
      "flex_flow": null,
      "grid_area": null,
      "grid_auto_columns": null,
      "grid_auto_flow": null,
      "grid_auto_rows": null,
      "grid_column": null,
      "grid_gap": null,
      "grid_row": null,
      "grid_template_areas": null,
      "grid_template_columns": null,
      "grid_template_rows": null,
      "height": null,
      "justify_content": null,
      "justify_items": null,
      "left": null,
      "margin": null,
      "max_height": null,
      "max_width": null,
      "min_height": null,
      "min_width": null,
      "object_fit": null,
      "object_position": null,
      "order": null,
      "overflow": null,
      "overflow_x": null,
      "overflow_y": null,
      "padding": null,
      "right": null,
      "top": null,
      "visibility": null,
      "width": null
     }
    },
    "a7fea0e22312437e81932d2760a97501": {
     "model_module": "@jupyter-widgets/controls",
     "model_module_version": "1.5.0",
     "model_name": "ProgressStyleModel",
     "state": {
      "_model_module": "@jupyter-widgets/controls",
      "_model_module_version": "1.5.0",
      "_model_name": "ProgressStyleModel",
      "_view_count": null,
      "_view_module": "@jupyter-widgets/base",
      "_view_module_version": "1.2.0",
      "_view_name": "StyleView",
      "bar_color": null,
      "description_width": ""
     }
    },
    "a959a855d22b46f4baff9bb44356ba5b": {
     "model_module": "@jupyter-widgets/controls",
     "model_module_version": "1.5.0",
     "model_name": "HBoxModel",
     "state": {
      "_dom_classes": [],
      "_model_module": "@jupyter-widgets/controls",
      "_model_module_version": "1.5.0",
      "_model_name": "HBoxModel",
      "_view_count": null,
      "_view_module": "@jupyter-widgets/controls",
      "_view_module_version": "1.5.0",
      "_view_name": "HBoxView",
      "box_style": "",
      "children": [
       "IPY_MODEL_72c1b58d3f1348efa579c479a3cf4a38",
       "IPY_MODEL_326b56f7b4f04dc68f6fdb85d0a0bd40",
       "IPY_MODEL_2b1e2a7627fa49d699bff47b4e042057"
      ],
      "layout": "IPY_MODEL_96831b4d08a14a9898ef9c07c0a264ff"
     }
    },
    "b04968c1ed2a403491ffe0b4e593be8b": {
     "model_module": "@jupyter-widgets/base",
     "model_module_version": "1.2.0",
     "model_name": "LayoutModel",
     "state": {
      "_model_module": "@jupyter-widgets/base",
      "_model_module_version": "1.2.0",
      "_model_name": "LayoutModel",
      "_view_count": null,
      "_view_module": "@jupyter-widgets/base",
      "_view_module_version": "1.2.0",
      "_view_name": "LayoutView",
      "align_content": null,
      "align_items": null,
      "align_self": null,
      "border": null,
      "bottom": null,
      "display": null,
      "flex": null,
      "flex_flow": null,
      "grid_area": null,
      "grid_auto_columns": null,
      "grid_auto_flow": null,
      "grid_auto_rows": null,
      "grid_column": null,
      "grid_gap": null,
      "grid_row": null,
      "grid_template_areas": null,
      "grid_template_columns": null,
      "grid_template_rows": null,
      "height": null,
      "justify_content": null,
      "justify_items": null,
      "left": null,
      "margin": null,
      "max_height": null,
      "max_width": null,
      "min_height": null,
      "min_width": null,
      "object_fit": null,
      "object_position": null,
      "order": null,
      "overflow": null,
      "overflow_x": null,
      "overflow_y": null,
      "padding": null,
      "right": null,
      "top": null,
      "visibility": null,
      "width": null
     }
    },
    "b93770b208354bcab816cf6c31a32bba": {
     "model_module": "@jupyter-widgets/base",
     "model_module_version": "1.2.0",
     "model_name": "LayoutModel",
     "state": {
      "_model_module": "@jupyter-widgets/base",
      "_model_module_version": "1.2.0",
      "_model_name": "LayoutModel",
      "_view_count": null,
      "_view_module": "@jupyter-widgets/base",
      "_view_module_version": "1.2.0",
      "_view_name": "LayoutView",
      "align_content": null,
      "align_items": null,
      "align_self": null,
      "border": null,
      "bottom": null,
      "display": null,
      "flex": null,
      "flex_flow": null,
      "grid_area": null,
      "grid_auto_columns": null,
      "grid_auto_flow": null,
      "grid_auto_rows": null,
      "grid_column": null,
      "grid_gap": null,
      "grid_row": null,
      "grid_template_areas": null,
      "grid_template_columns": null,
      "grid_template_rows": null,
      "height": null,
      "justify_content": null,
      "justify_items": null,
      "left": null,
      "margin": null,
      "max_height": null,
      "max_width": null,
      "min_height": null,
      "min_width": null,
      "object_fit": null,
      "object_position": null,
      "order": null,
      "overflow": null,
      "overflow_x": null,
      "overflow_y": null,
      "padding": null,
      "right": null,
      "top": null,
      "visibility": null,
      "width": null
     }
    },
    "be1c20974dd94f229ae11f84375f7004": {
     "model_module": "@jupyter-widgets/controls",
     "model_module_version": "1.5.0",
     "model_name": "HBoxModel",
     "state": {
      "_dom_classes": [],
      "_model_module": "@jupyter-widgets/controls",
      "_model_module_version": "1.5.0",
      "_model_name": "HBoxModel",
      "_view_count": null,
      "_view_module": "@jupyter-widgets/controls",
      "_view_module_version": "1.5.0",
      "_view_name": "HBoxView",
      "box_style": "",
      "children": [
       "IPY_MODEL_1793ec8b0b404c02b9f022e62859608d",
       "IPY_MODEL_243fff865ff5403089c84621b74897d9",
       "IPY_MODEL_4caed94d333c47eaae619e8bfc4fc186"
      ],
      "layout": "IPY_MODEL_cda77525032e45fc9d3825edcbfbb7b4"
     }
    },
    "c383f76c8298471d81ec75fe90e63bec": {
     "model_module": "@jupyter-widgets/base",
     "model_module_version": "1.2.0",
     "model_name": "LayoutModel",
     "state": {
      "_model_module": "@jupyter-widgets/base",
      "_model_module_version": "1.2.0",
      "_model_name": "LayoutModel",
      "_view_count": null,
      "_view_module": "@jupyter-widgets/base",
      "_view_module_version": "1.2.0",
      "_view_name": "LayoutView",
      "align_content": null,
      "align_items": null,
      "align_self": null,
      "border": null,
      "bottom": null,
      "display": null,
      "flex": null,
      "flex_flow": null,
      "grid_area": null,
      "grid_auto_columns": null,
      "grid_auto_flow": null,
      "grid_auto_rows": null,
      "grid_column": null,
      "grid_gap": null,
      "grid_row": null,
      "grid_template_areas": null,
      "grid_template_columns": null,
      "grid_template_rows": null,
      "height": null,
      "justify_content": null,
      "justify_items": null,
      "left": null,
      "margin": null,
      "max_height": null,
      "max_width": null,
      "min_height": null,
      "min_width": null,
      "object_fit": null,
      "object_position": null,
      "order": null,
      "overflow": null,
      "overflow_x": null,
      "overflow_y": null,
      "padding": null,
      "right": null,
      "top": null,
      "visibility": null,
      "width": null
     }
    },
    "cda77525032e45fc9d3825edcbfbb7b4": {
     "model_module": "@jupyter-widgets/base",
     "model_module_version": "1.2.0",
     "model_name": "LayoutModel",
     "state": {
      "_model_module": "@jupyter-widgets/base",
      "_model_module_version": "1.2.0",
      "_model_name": "LayoutModel",
      "_view_count": null,
      "_view_module": "@jupyter-widgets/base",
      "_view_module_version": "1.2.0",
      "_view_name": "LayoutView",
      "align_content": null,
      "align_items": null,
      "align_self": null,
      "border": null,
      "bottom": null,
      "display": null,
      "flex": null,
      "flex_flow": null,
      "grid_area": null,
      "grid_auto_columns": null,
      "grid_auto_flow": null,
      "grid_auto_rows": null,
      "grid_column": null,
      "grid_gap": null,
      "grid_row": null,
      "grid_template_areas": null,
      "grid_template_columns": null,
      "grid_template_rows": null,
      "height": null,
      "justify_content": null,
      "justify_items": null,
      "left": null,
      "margin": null,
      "max_height": null,
      "max_width": null,
      "min_height": null,
      "min_width": null,
      "object_fit": null,
      "object_position": null,
      "order": null,
      "overflow": null,
      "overflow_x": null,
      "overflow_y": null,
      "padding": null,
      "right": null,
      "top": null,
      "visibility": null,
      "width": null
     }
    },
    "d027881691b3445783f2b045b7433067": {
     "model_module": "@jupyter-widgets/controls",
     "model_module_version": "1.5.0",
     "model_name": "HTMLModel",
     "state": {
      "_dom_classes": [],
      "_model_module": "@jupyter-widgets/controls",
      "_model_module_version": "1.5.0",
      "_model_name": "HTMLModel",
      "_view_count": null,
      "_view_module": "@jupyter-widgets/controls",
      "_view_module_version": "1.5.0",
      "_view_name": "HTMLView",
      "description": "",
      "description_tooltip": null,
      "layout": "IPY_MODEL_c383f76c8298471d81ec75fe90e63bec",
      "placeholder": "​",
      "style": "IPY_MODEL_8dac0ff8438b4bf6b9fc68b706447615",
      "value": "Downloading model.safetensors: 100%"
     }
    },
    "d1fda9a6a3254c84abd499c72fcc9da1": {
     "model_module": "@jupyter-widgets/controls",
     "model_module_version": "1.5.0",
     "model_name": "DescriptionStyleModel",
     "state": {
      "_model_module": "@jupyter-widgets/controls",
      "_model_module_version": "1.5.0",
      "_model_name": "DescriptionStyleModel",
      "_view_count": null,
      "_view_module": "@jupyter-widgets/base",
      "_view_module_version": "1.2.0",
      "_view_name": "StyleView",
      "description_width": ""
     }
    },
    "d245a94e512544318acf70629a08f338": {
     "model_module": "@jupyter-widgets/base",
     "model_module_version": "1.2.0",
     "model_name": "LayoutModel",
     "state": {
      "_model_module": "@jupyter-widgets/base",
      "_model_module_version": "1.2.0",
      "_model_name": "LayoutModel",
      "_view_count": null,
      "_view_module": "@jupyter-widgets/base",
      "_view_module_version": "1.2.0",
      "_view_name": "LayoutView",
      "align_content": null,
      "align_items": null,
      "align_self": null,
      "border": null,
      "bottom": null,
      "display": null,
      "flex": null,
      "flex_flow": null,
      "grid_area": null,
      "grid_auto_columns": null,
      "grid_auto_flow": null,
      "grid_auto_rows": null,
      "grid_column": null,
      "grid_gap": null,
      "grid_row": null,
      "grid_template_areas": null,
      "grid_template_columns": null,
      "grid_template_rows": null,
      "height": null,
      "justify_content": null,
      "justify_items": null,
      "left": null,
      "margin": null,
      "max_height": null,
      "max_width": null,
      "min_height": null,
      "min_width": null,
      "object_fit": null,
      "object_position": null,
      "order": null,
      "overflow": null,
      "overflow_x": null,
      "overflow_y": null,
      "padding": null,
      "right": null,
      "top": null,
      "visibility": null,
      "width": null
     }
    },
    "d2c196201e244cf5b79cb110285fac3f": {
     "model_module": "@jupyter-widgets/controls",
     "model_module_version": "1.5.0",
     "model_name": "DescriptionStyleModel",
     "state": {
      "_model_module": "@jupyter-widgets/controls",
      "_model_module_version": "1.5.0",
      "_model_name": "DescriptionStyleModel",
      "_view_count": null,
      "_view_module": "@jupyter-widgets/base",
      "_view_module_version": "1.2.0",
      "_view_name": "StyleView",
      "description_width": ""
     }
    },
    "df34091f692b4a5d9eb4ad3984c00115": {
     "model_module": "@jupyter-widgets/controls",
     "model_module_version": "1.5.0",
     "model_name": "HBoxModel",
     "state": {
      "_dom_classes": [],
      "_model_module": "@jupyter-widgets/controls",
      "_model_module_version": "1.5.0",
      "_model_name": "HBoxModel",
      "_view_count": null,
      "_view_module": "@jupyter-widgets/controls",
      "_view_module_version": "1.5.0",
      "_view_name": "HBoxView",
      "box_style": "",
      "children": [
       "IPY_MODEL_eb01ead77a4b4fbd8f50ae0e4df9e723",
       "IPY_MODEL_462984f16c884442ad31dfcd7f1d3cd9",
       "IPY_MODEL_5a03fe8f0b534fae8d1c7eb9240151ad"
      ],
      "layout": "IPY_MODEL_a7299d1b81294492a2edb5efea0a7c7f"
     }
    },
    "e0dbfc60e597425a812b51dd978ad033": {
     "model_module": "@jupyter-widgets/controls",
     "model_module_version": "1.5.0",
     "model_name": "HBoxModel",
     "state": {
      "_dom_classes": [],
      "_model_module": "@jupyter-widgets/controls",
      "_model_module_version": "1.5.0",
      "_model_name": "HBoxModel",
      "_view_count": null,
      "_view_module": "@jupyter-widgets/controls",
      "_view_module_version": "1.5.0",
      "_view_name": "HBoxView",
      "box_style": "",
      "children": [
       "IPY_MODEL_0b2027a3b99b49aba143555629464698",
       "IPY_MODEL_7509223f42ce4964a74a80dc27760f12",
       "IPY_MODEL_e8b67706c19141b599f0d96d718f9100"
      ],
      "layout": "IPY_MODEL_034e9ca938974304b263364ea31fe6dd"
     }
    },
    "e8b67706c19141b599f0d96d718f9100": {
     "model_module": "@jupyter-widgets/controls",
     "model_module_version": "1.5.0",
     "model_name": "HTMLModel",
     "state": {
      "_dom_classes": [],
      "_model_module": "@jupyter-widgets/controls",
      "_model_module_version": "1.5.0",
      "_model_name": "HTMLModel",
      "_view_count": null,
      "_view_module": "@jupyter-widgets/controls",
      "_view_module_version": "1.5.0",
      "_view_name": "HTMLView",
      "description": "",
      "description_tooltip": null,
      "layout": "IPY_MODEL_a09c9e2e52604437a8c1cb8be98a41da",
      "placeholder": "​",
      "style": "IPY_MODEL_183f13f2441a4bb886a120bf395a1ae9",
      "value": " 466k/466k [00:00&lt;00:00, 2.52MB/s]"
     }
    },
    "eb01ead77a4b4fbd8f50ae0e4df9e723": {
     "model_module": "@jupyter-widgets/controls",
     "model_module_version": "1.5.0",
     "model_name": "HTMLModel",
     "state": {
      "_dom_classes": [],
      "_model_module": "@jupyter-widgets/controls",
      "_model_module_version": "1.5.0",
      "_model_name": "HTMLModel",
      "_view_count": null,
      "_view_module": "@jupyter-widgets/controls",
      "_view_module_version": "1.5.0",
      "_view_name": "HTMLView",
      "description": "",
      "description_tooltip": null,
      "layout": "IPY_MODEL_b04968c1ed2a403491ffe0b4e593be8b",
      "placeholder": "​",
      "style": "IPY_MODEL_ebfc42f1ede741ceacb619a8f70620a9",
      "value": "Downloading (…)solve/main/vocab.txt: 100%"
     }
    },
    "ebfc42f1ede741ceacb619a8f70620a9": {
     "model_module": "@jupyter-widgets/controls",
     "model_module_version": "1.5.0",
     "model_name": "DescriptionStyleModel",
     "state": {
      "_model_module": "@jupyter-widgets/controls",
      "_model_module_version": "1.5.0",
      "_model_name": "DescriptionStyleModel",
      "_view_count": null,
      "_view_module": "@jupyter-widgets/base",
      "_view_module_version": "1.2.0",
      "_view_name": "StyleView",
      "description_width": ""
     }
    },
    "f8e78cbdcc3740d2a8112de61ecd94d9": {
     "model_module": "@jupyter-widgets/base",
     "model_module_version": "1.2.0",
     "model_name": "LayoutModel",
     "state": {
      "_model_module": "@jupyter-widgets/base",
      "_model_module_version": "1.2.0",
      "_model_name": "LayoutModel",
      "_view_count": null,
      "_view_module": "@jupyter-widgets/base",
      "_view_module_version": "1.2.0",
      "_view_name": "LayoutView",
      "align_content": null,
      "align_items": null,
      "align_self": null,
      "border": null,
      "bottom": null,
      "display": null,
      "flex": null,
      "flex_flow": null,
      "grid_area": null,
      "grid_auto_columns": null,
      "grid_auto_flow": null,
      "grid_auto_rows": null,
      "grid_column": null,
      "grid_gap": null,
      "grid_row": null,
      "grid_template_areas": null,
      "grid_template_columns": null,
      "grid_template_rows": null,
      "height": null,
      "justify_content": null,
      "justify_items": null,
      "left": null,
      "margin": null,
      "max_height": null,
      "max_width": null,
      "min_height": null,
      "min_width": null,
      "object_fit": null,
      "object_position": null,
      "order": null,
      "overflow": null,
      "overflow_x": null,
      "overflow_y": null,
      "padding": null,
      "right": null,
      "top": null,
      "visibility": null,
      "width": null
     }
    },
    "fbbe8e43db214361a456333aab4fbad1": {
     "model_module": "@jupyter-widgets/controls",
     "model_module_version": "1.5.0",
     "model_name": "DescriptionStyleModel",
     "state": {
      "_model_module": "@jupyter-widgets/controls",
      "_model_module_version": "1.5.0",
      "_model_name": "DescriptionStyleModel",
      "_view_count": null,
      "_view_module": "@jupyter-widgets/base",
      "_view_module_version": "1.2.0",
      "_view_name": "StyleView",
      "description_width": ""
     }
    },
    "fe11b4a6878246b3bd995b0f7add716d": {
     "model_module": "@jupyter-widgets/controls",
     "model_module_version": "1.5.0",
     "model_name": "HBoxModel",
     "state": {
      "_dom_classes": [],
      "_model_module": "@jupyter-widgets/controls",
      "_model_module_version": "1.5.0",
      "_model_name": "HBoxModel",
      "_view_count": null,
      "_view_module": "@jupyter-widgets/controls",
      "_view_module_version": "1.5.0",
      "_view_name": "HBoxView",
      "box_style": "",
      "children": [
       "IPY_MODEL_d027881691b3445783f2b045b7433067",
       "IPY_MODEL_165a71e1e7d34955a49f4358b128ae6c",
       "IPY_MODEL_7c7deedce3a44296adc99300da31bc7a"
      ],
      "layout": "IPY_MODEL_3c806c9034644919bc0090bf1451bda9"
     }
    }
   }
  }
 },
 "nbformat": 4,
 "nbformat_minor": 0
}
